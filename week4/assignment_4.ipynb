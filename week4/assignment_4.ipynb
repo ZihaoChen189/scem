{
 "cells": [
  {
   "cell_type": "code",
   "execution_count": 1,
   "id": "6f71bc29-ed08-42fc-af55-435e9dc46a64",
   "metadata": {
    "scrolled": true
   },
   "outputs": [
    {
     "name": "stderr",
     "output_type": "stream",
     "text": [
      "── \u001b[1mAttaching core tidyverse packages\u001b[22m ──────────────────────── tidyverse 2.0.0 ──\n",
      "\u001b[32m✔\u001b[39m \u001b[34mdplyr    \u001b[39m 1.1.4     \u001b[32m✔\u001b[39m \u001b[34mreadr    \u001b[39m 2.1.5\n",
      "\u001b[32m✔\u001b[39m \u001b[34mforcats  \u001b[39m 1.0.0     \u001b[32m✔\u001b[39m \u001b[34mstringr  \u001b[39m 1.5.1\n",
      "\u001b[32m✔\u001b[39m \u001b[34mggplot2  \u001b[39m 3.5.1     \u001b[32m✔\u001b[39m \u001b[34mtibble   \u001b[39m 3.2.1\n",
      "\u001b[32m✔\u001b[39m \u001b[34mlubridate\u001b[39m 1.9.3     \u001b[32m✔\u001b[39m \u001b[34mtidyr    \u001b[39m 1.3.1\n",
      "\u001b[32m✔\u001b[39m \u001b[34mpurrr    \u001b[39m 1.0.2     \n",
      "── \u001b[1mConflicts\u001b[22m ────────────────────────────────────────── tidyverse_conflicts() ──\n",
      "\u001b[31m✖\u001b[39m \u001b[34mdplyr\u001b[39m::\u001b[32mfilter()\u001b[39m masks \u001b[34mstats\u001b[39m::filter()\n",
      "\u001b[31m✖\u001b[39m \u001b[34mdplyr\u001b[39m::\u001b[32mlag()\u001b[39m    masks \u001b[34mstats\u001b[39m::lag()\n",
      "\u001b[36mℹ\u001b[39m Use the conflicted package (\u001b[3m\u001b[34m<http://conflicted.r-lib.org/>\u001b[39m\u001b[23m) to force all conflicts to become errors\n"
     ]
    }
   ],
   "source": [
    "library(tidyverse) "
   ]
  },
  {
   "cell_type": "code",
   "execution_count": 2,
   "id": "c1358e54-8240-47bf-8c31-d0e5fd7d132a",
   "metadata": {},
   "outputs": [],
   "source": [
    "impute_by_mean <- function(x) { \n",
    "    mu <- mean(x,na.rm=TRUE) # first compute the mean of x \n",
    "    impute_f <- function(z) { # coordinate-wise imputation \n",
    "        if(is.na(z)) { \n",
    "            return(mu) # if z is na replace with mean \n",
    "        }else{ \n",
    "            return(z) # otherwise leave in place \n",
    "        } \n",
    "    } \n",
    "    return(map_dbl(x,impute_f)) # apply the map function to impute across vector \n",
    "} \n",
    "\n",
    "\n",
    "impute_by_median <- function(x) { \n",
    "    mu <- median(x,na.rm=TRUE)\n",
    "    impute_f <- function(z) { \n",
    "        if(is.na(z)) { \n",
    "            return(mu) \n",
    "        }else{ \n",
    "            return(z) \n",
    "        } \n",
    "    } \n",
    "    return(map_dbl(x,impute_f))\n",
    "} "
   ]
  },
  {
   "cell_type": "code",
   "execution_count": 3,
   "id": "1a9d5497-021d-40be-b2fd-cdc921072df7",
   "metadata": {
    "scrolled": true
   },
   "outputs": [
    {
     "data": {
      "text/html": [
       "<style>\n",
       ".list-inline {list-style: none; margin:0; padding: 0}\n",
       ".list-inline>li {display: inline-block}\n",
       ".list-inline>li:not(:last-child)::after {content: \"\\00b7\"; padding: 0 .5ex}\n",
       "</style>\n",
       "<ol class=list-inline><li>1</li><li>2</li><li>2</li><li>4</li></ol>\n"
      ],
      "text/latex": [
       "\\begin{enumerate*}\n",
       "\\item 1\n",
       "\\item 2\n",
       "\\item 2\n",
       "\\item 4\n",
       "\\end{enumerate*}\n"
      ],
      "text/markdown": [
       "1. 1\n",
       "2. 2\n",
       "3. 2\n",
       "4. 4\n",
       "\n",
       "\n"
      ],
      "text/plain": [
       "[1] 1 2 2 4"
      ]
     },
     "metadata": {},
     "output_type": "display_data"
    }
   ],
   "source": [
    "v<-c(1,2,NA,4) \n",
    "impute_by_median(v) "
   ]
  },
  {
   "cell_type": "code",
   "execution_count": 4,
   "id": "14243f3c-1760-4c82-9eeb-57e92c4228d9",
   "metadata": {
    "scrolled": true
   },
   "outputs": [
    {
     "data": {
      "text/html": [
       "<table class=\"dataframe\">\n",
       "<caption>A data.frame: 5 × 2</caption>\n",
       "<thead>\n",
       "\t<tr><th></th><th scope=col>x</th><th scope=col>y</th></tr>\n",
       "\t<tr><th></th><th scope=col>&lt;dbl&gt;</th><th scope=col>&lt;dbl&gt;</th></tr>\n",
       "</thead>\n",
       "<tbody>\n",
       "\t<tr><th scope=row>1</th><td>0.0</td><td>1.0</td></tr>\n",
       "\t<tr><th scope=row>2</th><td>0.1</td><td>1.5</td></tr>\n",
       "\t<tr><th scope=row>3</th><td>0.2</td><td>2.0</td></tr>\n",
       "\t<tr><th scope=row>4</th><td>0.3</td><td>2.5</td></tr>\n",
       "\t<tr><th scope=row>5</th><td>0.4</td><td>3.0</td></tr>\n",
       "</tbody>\n",
       "</table>\n"
      ],
      "text/latex": [
       "A data.frame: 5 × 2\n",
       "\\begin{tabular}{r|ll}\n",
       "  & x & y\\\\\n",
       "  & <dbl> & <dbl>\\\\\n",
       "\\hline\n",
       "\t1 & 0.0 & 1.0\\\\\n",
       "\t2 & 0.1 & 1.5\\\\\n",
       "\t3 & 0.2 & 2.0\\\\\n",
       "\t4 & 0.3 & 2.5\\\\\n",
       "\t5 & 0.4 & 3.0\\\\\n",
       "\\end{tabular}\n"
      ],
      "text/markdown": [
       "\n",
       "A data.frame: 5 × 2\n",
       "\n",
       "| <!--/--> | x &lt;dbl&gt; | y &lt;dbl&gt; |\n",
       "|---|---|---|\n",
       "| 1 | 0.0 | 1.0 |\n",
       "| 2 | 0.1 | 1.5 |\n",
       "| 3 | 0.2 | 2.0 |\n",
       "| 4 | 0.3 | 2.5 |\n",
       "| 5 | 0.4 | 3.0 |\n",
       "\n"
      ],
      "text/plain": [
       "  x   y  \n",
       "1 0.0 1.0\n",
       "2 0.1 1.5\n",
       "3 0.2 2.0\n",
       "4 0.3 2.5\n",
       "5 0.4 3.0"
      ]
     },
     "metadata": {},
     "output_type": "display_data"
    }
   ],
   "source": [
    "x <- seq(0, 10, 0.1)\n",
    "y <- 5 * x + 1\n",
    "df_xy <- data.frame(x = x, y = y)\n",
    "df_xy %>% head(5) "
   ]
  },
  {
   "cell_type": "code",
   "execution_count": 5,
   "id": "d654fe3a-c14b-4e8c-b957-cecea6049b81",
   "metadata": {
    "scrolled": true
   },
   "outputs": [
    {
     "data": {
      "text/html": [
       "<table class=\"dataframe\">\n",
       "<caption>A data.frame: 5 × 3</caption>\n",
       "<thead>\n",
       "\t<tr><th></th><th scope=col>x</th><th scope=col>y</th><th scope=col>z</th></tr>\n",
       "\t<tr><th></th><th scope=col>&lt;dbl&gt;</th><th scope=col>&lt;dbl&gt;</th><th scope=col>&lt;dbl&gt;</th></tr>\n",
       "</thead>\n",
       "<tbody>\n",
       "\t<tr><th scope=row>1</th><td>0.0</td><td>1.0</td><td>1.0</td></tr>\n",
       "\t<tr><th scope=row>2</th><td>0.1</td><td>1.5</td><td>1.6</td></tr>\n",
       "\t<tr><th scope=row>3</th><td>0.2</td><td>2.0</td><td>2.2</td></tr>\n",
       "\t<tr><th scope=row>4</th><td>0.3</td><td>2.5</td><td>2.8</td></tr>\n",
       "\t<tr><th scope=row>5</th><td>0.4</td><td>3.0</td><td>3.4</td></tr>\n",
       "</tbody>\n",
       "</table>\n"
      ],
      "text/latex": [
       "A data.frame: 5 × 3\n",
       "\\begin{tabular}{r|lll}\n",
       "  & x & y & z\\\\\n",
       "  & <dbl> & <dbl> & <dbl>\\\\\n",
       "\\hline\n",
       "\t1 & 0.0 & 1.0 & 1.0\\\\\n",
       "\t2 & 0.1 & 1.5 & 1.6\\\\\n",
       "\t3 & 0.2 & 2.0 & 2.2\\\\\n",
       "\t4 & 0.3 & 2.5 & 2.8\\\\\n",
       "\t5 & 0.4 & 3.0 & 3.4\\\\\n",
       "\\end{tabular}\n"
      ],
      "text/markdown": [
       "\n",
       "A data.frame: 5 × 3\n",
       "\n",
       "| <!--/--> | x &lt;dbl&gt; | y &lt;dbl&gt; | z &lt;dbl&gt; |\n",
       "|---|---|---|---|\n",
       "| 1 | 0.0 | 1.0 | 1.0 |\n",
       "| 2 | 0.1 | 1.5 | 1.6 |\n",
       "| 3 | 0.2 | 2.0 | 2.2 |\n",
       "| 4 | 0.3 | 2.5 | 2.8 |\n",
       "| 5 | 0.4 | 3.0 | 3.4 |\n",
       "\n"
      ],
      "text/plain": [
       "  x   y   z  \n",
       "1 0.0 1.0 1.0\n",
       "2 0.1 1.5 1.6\n",
       "3 0.2 2.0 2.2\n",
       "4 0.3 2.5 2.8\n",
       "5 0.4 3.0 3.4"
      ]
     },
     "metadata": {},
     "output_type": "display_data"
    }
   ],
   "source": [
    "df_xy %>% mutate(z=map2_dbl(x,y,~.x+.y)) %>% head(5) "
   ]
  },
  {
   "cell_type": "code",
   "execution_count": 6,
   "id": "d73dd84d-0f9e-4439-a98e-3ce765fdd818",
   "metadata": {
    "scrolled": true
   },
   "outputs": [
    {
     "data": {
      "text/html": [
       "25"
      ],
      "text/latex": [
       "25"
      ],
      "text/markdown": [
       "25"
      ],
      "text/plain": [
       "[1] 25"
      ]
     },
     "metadata": {},
     "output_type": "display_data"
    },
    {
     "data": {
      "text/html": [
       "&lt;NA&gt;"
      ],
      "text/latex": [
       "<NA>"
      ],
      "text/markdown": [
       "&lt;NA&gt;"
      ],
      "text/plain": [
       "[1] NA"
      ]
     },
     "metadata": {},
     "output_type": "display_data"
    }
   ],
   "source": [
    "sometimes_missing <- function(index, value) {\n",
    "    if (index%%5==0) {\n",
    "        return (NA)\n",
    "    } else {\n",
    "        return (value)\n",
    "    }\n",
    "}\n",
    "\n",
    "\n",
    "sometimes_missing(14,25) \n",
    "sometimes_missing(15,25) "
   ]
  },
  {
   "cell_type": "code",
   "execution_count": 7,
   "id": "74617c84-9d2a-4cdd-90da-0e896a2949ba",
   "metadata": {
    "scrolled": true
   },
   "outputs": [
    {
     "data": {
      "text/html": [
       "<table class=\"dataframe\">\n",
       "<caption>A data.frame: 10 × 2</caption>\n",
       "<thead>\n",
       "\t<tr><th></th><th scope=col>x</th><th scope=col>y</th></tr>\n",
       "\t<tr><th></th><th scope=col>&lt;dbl&gt;</th><th scope=col>&lt;dbl&gt;</th></tr>\n",
       "</thead>\n",
       "<tbody>\n",
       "\t<tr><th scope=row>1</th><td>0.0</td><td>1.0</td></tr>\n",
       "\t<tr><th scope=row>2</th><td>0.1</td><td>1.5</td></tr>\n",
       "\t<tr><th scope=row>3</th><td>0.2</td><td>2.0</td></tr>\n",
       "\t<tr><th scope=row>4</th><td>0.3</td><td>2.5</td></tr>\n",
       "\t<tr><th scope=row>5</th><td>0.4</td><td> NA</td></tr>\n",
       "\t<tr><th scope=row>6</th><td>0.5</td><td>3.5</td></tr>\n",
       "\t<tr><th scope=row>7</th><td>0.6</td><td>4.0</td></tr>\n",
       "\t<tr><th scope=row>8</th><td>0.7</td><td>4.5</td></tr>\n",
       "\t<tr><th scope=row>9</th><td>0.8</td><td>5.0</td></tr>\n",
       "\t<tr><th scope=row>10</th><td>0.9</td><td> NA</td></tr>\n",
       "</tbody>\n",
       "</table>\n"
      ],
      "text/latex": [
       "A data.frame: 10 × 2\n",
       "\\begin{tabular}{r|ll}\n",
       "  & x & y\\\\\n",
       "  & <dbl> & <dbl>\\\\\n",
       "\\hline\n",
       "\t1 & 0.0 & 1.0\\\\\n",
       "\t2 & 0.1 & 1.5\\\\\n",
       "\t3 & 0.2 & 2.0\\\\\n",
       "\t4 & 0.3 & 2.5\\\\\n",
       "\t5 & 0.4 &  NA\\\\\n",
       "\t6 & 0.5 & 3.5\\\\\n",
       "\t7 & 0.6 & 4.0\\\\\n",
       "\t8 & 0.7 & 4.5\\\\\n",
       "\t9 & 0.8 & 5.0\\\\\n",
       "\t10 & 0.9 &  NA\\\\\n",
       "\\end{tabular}\n"
      ],
      "text/markdown": [
       "\n",
       "A data.frame: 10 × 2\n",
       "\n",
       "| <!--/--> | x &lt;dbl&gt; | y &lt;dbl&gt; |\n",
       "|---|---|---|\n",
       "| 1 | 0.0 | 1.0 |\n",
       "| 2 | 0.1 | 1.5 |\n",
       "| 3 | 0.2 | 2.0 |\n",
       "| 4 | 0.3 | 2.5 |\n",
       "| 5 | 0.4 |  NA |\n",
       "| 6 | 0.5 | 3.5 |\n",
       "| 7 | 0.6 | 4.0 |\n",
       "| 8 | 0.7 | 4.5 |\n",
       "| 9 | 0.8 | 5.0 |\n",
       "| 10 | 0.9 |  NA |\n",
       "\n"
      ],
      "text/plain": [
       "   x   y  \n",
       "1  0.0 1.0\n",
       "2  0.1 1.5\n",
       "3  0.2 2.0\n",
       "4  0.3 2.5\n",
       "5  0.4  NA\n",
       "6  0.5 3.5\n",
       "7  0.6 4.0\n",
       "8  0.7 4.5\n",
       "9  0.8 5.0\n",
       "10 0.9  NA"
      ]
     },
     "metadata": {},
     "output_type": "display_data"
    }
   ],
   "source": [
    "x <- seq(0, 10, 0.1)\n",
    "y <- 5 * x + 1\n",
    "\n",
    "df_xy_missing <- data.frame(x = x, y = y)%>% mutate( y = map2_dbl(row_number(), y, sometimes_missing) )\n",
    "\n",
    "df_xy_missing %>% head(10) "
   ]
  },
  {
   "cell_type": "code",
   "execution_count": 8,
   "id": "a74c06bb-890e-42a2-88db-e0f20240078a",
   "metadata": {},
   "outputs": [
    {
     "data": {
      "text/html": [
       "<table class=\"dataframe\">\n",
       "<caption>A data.frame: 101 × 2</caption>\n",
       "<thead>\n",
       "\t<tr><th scope=col>x</th><th scope=col>y</th></tr>\n",
       "\t<tr><th scope=col>&lt;dbl&gt;</th><th scope=col>&lt;dbl&gt;</th></tr>\n",
       "</thead>\n",
       "<tbody>\n",
       "\t<tr><td>0.0</td><td> 1.00000</td></tr>\n",
       "\t<tr><td>0.1</td><td> 1.50000</td></tr>\n",
       "\t<tr><td>0.2</td><td> 2.00000</td></tr>\n",
       "\t<tr><td>0.3</td><td> 2.50000</td></tr>\n",
       "\t<tr><td>0.4</td><td>25.81481</td></tr>\n",
       "\t<tr><td>0.5</td><td> 3.50000</td></tr>\n",
       "\t<tr><td>0.6</td><td> 4.00000</td></tr>\n",
       "\t<tr><td>0.7</td><td> 4.50000</td></tr>\n",
       "\t<tr><td>0.8</td><td> 5.00000</td></tr>\n",
       "\t<tr><td>0.9</td><td>25.81481</td></tr>\n",
       "\t<tr><td>1.0</td><td> 6.00000</td></tr>\n",
       "\t<tr><td>1.1</td><td> 6.50000</td></tr>\n",
       "\t<tr><td>1.2</td><td> 7.00000</td></tr>\n",
       "\t<tr><td>1.3</td><td> 7.50000</td></tr>\n",
       "\t<tr><td>1.4</td><td>25.81481</td></tr>\n",
       "\t<tr><td>1.5</td><td> 8.50000</td></tr>\n",
       "\t<tr><td>1.6</td><td> 9.00000</td></tr>\n",
       "\t<tr><td>1.7</td><td> 9.50000</td></tr>\n",
       "\t<tr><td>1.8</td><td>10.00000</td></tr>\n",
       "\t<tr><td>1.9</td><td>25.81481</td></tr>\n",
       "\t<tr><td>2.0</td><td>11.00000</td></tr>\n",
       "\t<tr><td>2.1</td><td>11.50000</td></tr>\n",
       "\t<tr><td>2.2</td><td>12.00000</td></tr>\n",
       "\t<tr><td>2.3</td><td>12.50000</td></tr>\n",
       "\t<tr><td>2.4</td><td>25.81481</td></tr>\n",
       "\t<tr><td>2.5</td><td>13.50000</td></tr>\n",
       "\t<tr><td>2.6</td><td>14.00000</td></tr>\n",
       "\t<tr><td>2.7</td><td>14.50000</td></tr>\n",
       "\t<tr><td>2.8</td><td>15.00000</td></tr>\n",
       "\t<tr><td>2.9</td><td>25.81481</td></tr>\n",
       "\t<tr><td>⋮</td><td>⋮</td></tr>\n",
       "\t<tr><td> 7.1</td><td>36.50000</td></tr>\n",
       "\t<tr><td> 7.2</td><td>37.00000</td></tr>\n",
       "\t<tr><td> 7.3</td><td>37.50000</td></tr>\n",
       "\t<tr><td> 7.4</td><td>25.81481</td></tr>\n",
       "\t<tr><td> 7.5</td><td>38.50000</td></tr>\n",
       "\t<tr><td> 7.6</td><td>39.00000</td></tr>\n",
       "\t<tr><td> 7.7</td><td>39.50000</td></tr>\n",
       "\t<tr><td> 7.8</td><td>40.00000</td></tr>\n",
       "\t<tr><td> 7.9</td><td>25.81481</td></tr>\n",
       "\t<tr><td> 8.0</td><td>41.00000</td></tr>\n",
       "\t<tr><td> 8.1</td><td>41.50000</td></tr>\n",
       "\t<tr><td> 8.2</td><td>42.00000</td></tr>\n",
       "\t<tr><td> 8.3</td><td>42.50000</td></tr>\n",
       "\t<tr><td> 8.4</td><td>25.81481</td></tr>\n",
       "\t<tr><td> 8.5</td><td>43.50000</td></tr>\n",
       "\t<tr><td> 8.6</td><td>44.00000</td></tr>\n",
       "\t<tr><td> 8.7</td><td>44.50000</td></tr>\n",
       "\t<tr><td> 8.8</td><td>45.00000</td></tr>\n",
       "\t<tr><td> 8.9</td><td>25.81481</td></tr>\n",
       "\t<tr><td> 9.0</td><td>46.00000</td></tr>\n",
       "\t<tr><td> 9.1</td><td>46.50000</td></tr>\n",
       "\t<tr><td> 9.2</td><td>47.00000</td></tr>\n",
       "\t<tr><td> 9.3</td><td>47.50000</td></tr>\n",
       "\t<tr><td> 9.4</td><td>25.81481</td></tr>\n",
       "\t<tr><td> 9.5</td><td>48.50000</td></tr>\n",
       "\t<tr><td> 9.6</td><td>49.00000</td></tr>\n",
       "\t<tr><td> 9.7</td><td>49.50000</td></tr>\n",
       "\t<tr><td> 9.8</td><td>50.00000</td></tr>\n",
       "\t<tr><td> 9.9</td><td>25.81481</td></tr>\n",
       "\t<tr><td>10.0</td><td>51.00000</td></tr>\n",
       "</tbody>\n",
       "</table>\n"
      ],
      "text/latex": [
       "A data.frame: 101 × 2\n",
       "\\begin{tabular}{ll}\n",
       " x & y\\\\\n",
       " <dbl> & <dbl>\\\\\n",
       "\\hline\n",
       "\t 0.0 &  1.00000\\\\\n",
       "\t 0.1 &  1.50000\\\\\n",
       "\t 0.2 &  2.00000\\\\\n",
       "\t 0.3 &  2.50000\\\\\n",
       "\t 0.4 & 25.81481\\\\\n",
       "\t 0.5 &  3.50000\\\\\n",
       "\t 0.6 &  4.00000\\\\\n",
       "\t 0.7 &  4.50000\\\\\n",
       "\t 0.8 &  5.00000\\\\\n",
       "\t 0.9 & 25.81481\\\\\n",
       "\t 1.0 &  6.00000\\\\\n",
       "\t 1.1 &  6.50000\\\\\n",
       "\t 1.2 &  7.00000\\\\\n",
       "\t 1.3 &  7.50000\\\\\n",
       "\t 1.4 & 25.81481\\\\\n",
       "\t 1.5 &  8.50000\\\\\n",
       "\t 1.6 &  9.00000\\\\\n",
       "\t 1.7 &  9.50000\\\\\n",
       "\t 1.8 & 10.00000\\\\\n",
       "\t 1.9 & 25.81481\\\\\n",
       "\t 2.0 & 11.00000\\\\\n",
       "\t 2.1 & 11.50000\\\\\n",
       "\t 2.2 & 12.00000\\\\\n",
       "\t 2.3 & 12.50000\\\\\n",
       "\t 2.4 & 25.81481\\\\\n",
       "\t 2.5 & 13.50000\\\\\n",
       "\t 2.6 & 14.00000\\\\\n",
       "\t 2.7 & 14.50000\\\\\n",
       "\t 2.8 & 15.00000\\\\\n",
       "\t 2.9 & 25.81481\\\\\n",
       "\t ⋮ & ⋮\\\\\n",
       "\t  7.1 & 36.50000\\\\\n",
       "\t  7.2 & 37.00000\\\\\n",
       "\t  7.3 & 37.50000\\\\\n",
       "\t  7.4 & 25.81481\\\\\n",
       "\t  7.5 & 38.50000\\\\\n",
       "\t  7.6 & 39.00000\\\\\n",
       "\t  7.7 & 39.50000\\\\\n",
       "\t  7.8 & 40.00000\\\\\n",
       "\t  7.9 & 25.81481\\\\\n",
       "\t  8.0 & 41.00000\\\\\n",
       "\t  8.1 & 41.50000\\\\\n",
       "\t  8.2 & 42.00000\\\\\n",
       "\t  8.3 & 42.50000\\\\\n",
       "\t  8.4 & 25.81481\\\\\n",
       "\t  8.5 & 43.50000\\\\\n",
       "\t  8.6 & 44.00000\\\\\n",
       "\t  8.7 & 44.50000\\\\\n",
       "\t  8.8 & 45.00000\\\\\n",
       "\t  8.9 & 25.81481\\\\\n",
       "\t  9.0 & 46.00000\\\\\n",
       "\t  9.1 & 46.50000\\\\\n",
       "\t  9.2 & 47.00000\\\\\n",
       "\t  9.3 & 47.50000\\\\\n",
       "\t  9.4 & 25.81481\\\\\n",
       "\t  9.5 & 48.50000\\\\\n",
       "\t  9.6 & 49.00000\\\\\n",
       "\t  9.7 & 49.50000\\\\\n",
       "\t  9.8 & 50.00000\\\\\n",
       "\t  9.9 & 25.81481\\\\\n",
       "\t 10.0 & 51.00000\\\\\n",
       "\\end{tabular}\n"
      ],
      "text/markdown": [
       "\n",
       "A data.frame: 101 × 2\n",
       "\n",
       "| x &lt;dbl&gt; | y &lt;dbl&gt; |\n",
       "|---|---|\n",
       "| 0.0 |  1.00000 |\n",
       "| 0.1 |  1.50000 |\n",
       "| 0.2 |  2.00000 |\n",
       "| 0.3 |  2.50000 |\n",
       "| 0.4 | 25.81481 |\n",
       "| 0.5 |  3.50000 |\n",
       "| 0.6 |  4.00000 |\n",
       "| 0.7 |  4.50000 |\n",
       "| 0.8 |  5.00000 |\n",
       "| 0.9 | 25.81481 |\n",
       "| 1.0 |  6.00000 |\n",
       "| 1.1 |  6.50000 |\n",
       "| 1.2 |  7.00000 |\n",
       "| 1.3 |  7.50000 |\n",
       "| 1.4 | 25.81481 |\n",
       "| 1.5 |  8.50000 |\n",
       "| 1.6 |  9.00000 |\n",
       "| 1.7 |  9.50000 |\n",
       "| 1.8 | 10.00000 |\n",
       "| 1.9 | 25.81481 |\n",
       "| 2.0 | 11.00000 |\n",
       "| 2.1 | 11.50000 |\n",
       "| 2.2 | 12.00000 |\n",
       "| 2.3 | 12.50000 |\n",
       "| 2.4 | 25.81481 |\n",
       "| 2.5 | 13.50000 |\n",
       "| 2.6 | 14.00000 |\n",
       "| 2.7 | 14.50000 |\n",
       "| 2.8 | 15.00000 |\n",
       "| 2.9 | 25.81481 |\n",
       "| ⋮ | ⋮ |\n",
       "|  7.1 | 36.50000 |\n",
       "|  7.2 | 37.00000 |\n",
       "|  7.3 | 37.50000 |\n",
       "|  7.4 | 25.81481 |\n",
       "|  7.5 | 38.50000 |\n",
       "|  7.6 | 39.00000 |\n",
       "|  7.7 | 39.50000 |\n",
       "|  7.8 | 40.00000 |\n",
       "|  7.9 | 25.81481 |\n",
       "|  8.0 | 41.00000 |\n",
       "|  8.1 | 41.50000 |\n",
       "|  8.2 | 42.00000 |\n",
       "|  8.3 | 42.50000 |\n",
       "|  8.4 | 25.81481 |\n",
       "|  8.5 | 43.50000 |\n",
       "|  8.6 | 44.00000 |\n",
       "|  8.7 | 44.50000 |\n",
       "|  8.8 | 45.00000 |\n",
       "|  8.9 | 25.81481 |\n",
       "|  9.0 | 46.00000 |\n",
       "|  9.1 | 46.50000 |\n",
       "|  9.2 | 47.00000 |\n",
       "|  9.3 | 47.50000 |\n",
       "|  9.4 | 25.81481 |\n",
       "|  9.5 | 48.50000 |\n",
       "|  9.6 | 49.00000 |\n",
       "|  9.7 | 49.50000 |\n",
       "|  9.8 | 50.00000 |\n",
       "|  9.9 | 25.81481 |\n",
       "| 10.0 | 51.00000 |\n",
       "\n"
      ],
      "text/plain": [
       "    x    y       \n",
       "1   0.0   1.00000\n",
       "2   0.1   1.50000\n",
       "3   0.2   2.00000\n",
       "4   0.3   2.50000\n",
       "5   0.4  25.81481\n",
       "6   0.5   3.50000\n",
       "7   0.6   4.00000\n",
       "8   0.7   4.50000\n",
       "9   0.8   5.00000\n",
       "10  0.9  25.81481\n",
       "11  1.0   6.00000\n",
       "12  1.1   6.50000\n",
       "13  1.2   7.00000\n",
       "14  1.3   7.50000\n",
       "15  1.4  25.81481\n",
       "16  1.5   8.50000\n",
       "17  1.6   9.00000\n",
       "18  1.7   9.50000\n",
       "19  1.8  10.00000\n",
       "20  1.9  25.81481\n",
       "21  2.0  11.00000\n",
       "22  2.1  11.50000\n",
       "23  2.2  12.00000\n",
       "24  2.3  12.50000\n",
       "25  2.4  25.81481\n",
       "26  2.5  13.50000\n",
       "27  2.6  14.00000\n",
       "28  2.7  14.50000\n",
       "29  2.8  15.00000\n",
       "30  2.9  25.81481\n",
       "⋮   ⋮    ⋮       \n",
       "72   7.1 36.50000\n",
       "73   7.2 37.00000\n",
       "74   7.3 37.50000\n",
       "75   7.4 25.81481\n",
       "76   7.5 38.50000\n",
       "77   7.6 39.00000\n",
       "78   7.7 39.50000\n",
       "79   7.8 40.00000\n",
       "80   7.9 25.81481\n",
       "81   8.0 41.00000\n",
       "82   8.1 41.50000\n",
       "83   8.2 42.00000\n",
       "84   8.3 42.50000\n",
       "85   8.4 25.81481\n",
       "86   8.5 43.50000\n",
       "87   8.6 44.00000\n",
       "88   8.7 44.50000\n",
       "89   8.8 45.00000\n",
       "90   8.9 25.81481\n",
       "91   9.0 46.00000\n",
       "92   9.1 46.50000\n",
       "93   9.2 47.00000\n",
       "94   9.3 47.50000\n",
       "95   9.4 25.81481\n",
       "96   9.5 48.50000\n",
       "97   9.6 49.00000\n",
       "98   9.7 49.50000\n",
       "99   9.8 50.00000\n",
       "100  9.9 25.81481\n",
       "101 10.0 51.00000"
      ]
     },
     "metadata": {},
     "output_type": "display_data"
    }
   ],
   "source": [
    "x <- seq(0, 10, 0.1)\n",
    "y <- 5 * x + 1\n",
    "\n",
    "# df_xy_imputed <- data.frame(x = x, y = y) %>% \n",
    "#     mutate( y = map2_dbl(row_number(), y, sometimes_missing) ) %>%\n",
    "#     mutate( y = map_dbl(y, impute_by_median) )  # <<<错误案例>>> impute函数循环的是一整个向量, 所以无需使用映射函数\n",
    "\n",
    "df_xy_imputed <- data.frame(x = x, y = y) %>% \n",
    "    mutate( y = map2_dbl(row_number(), y, sometimes_missing) ) %>%\n",
    "    mutate( y = impute_by_mean(y) )\n",
    "\n",
    "df_xy_imputed"
   ]
  },
  {
   "cell_type": "code",
   "execution_count": 9,
   "id": "62df339a-0ba9-402a-ba83-2244f2c10f4c",
   "metadata": {},
   "outputs": [
    {
     "name": "stderr",
     "output_type": "stream",
     "text": [
      "\u001b[1m\u001b[22mNew names:\n",
      "\u001b[36m•\u001b[39m `` -> `...1`\n"
     ]
    }
   ],
   "source": [
    "library(readxl) # load the readxl library \n",
    "folder_path <- \"./\" \n",
    "file_name<-\"HockeyLeague.xlsx\" # set the file name \n",
    "file_path<-paste(folder_path,file_name,sep=\"\") # create the file_path \n",
    "wins_data_frame<-read_excel(file_path,sheet=\"Wins\") # read of a sheet from an xl file \n",
    "colnames(wins_data_frame)[1] <- \"Team\""
   ]
  },
  {
   "cell_type": "code",
   "execution_count": 10,
   "id": "8881b00c-3f2d-44f5-a2df-c0302e7e4271",
   "metadata": {
    "scrolled": true
   },
   "outputs": [],
   "source": [
    "# wins_data_frame"
   ]
  },
  {
   "cell_type": "code",
   "execution_count": 11,
   "id": "c5c2388b-825a-4b5b-8ca7-7252cd5d1b94",
   "metadata": {
    "scrolled": true
   },
   "outputs": [
    {
     "data": {
      "text/html": [
       "<table class=\"dataframe\">\n",
       "<caption>A tibble: 3 × 5</caption>\n",
       "<thead>\n",
       "\t<tr><th scope=col>Team</th><th scope=col>1990</th><th scope=col>1991</th><th scope=col>1992</th><th scope=col>1993</th></tr>\n",
       "\t<tr><th scope=col>&lt;chr&gt;</th><th scope=col>&lt;chr&gt;</th><th scope=col>&lt;chr&gt;</th><th scope=col>&lt;chr&gt;</th><th scope=col>&lt;chr&gt;</th></tr>\n",
       "</thead>\n",
       "<tbody>\n",
       "\t<tr><td>Ducks </td><td>30 of 50</td><td>11 of 50</td><td>30 of 50</td><td>12 of 50</td></tr>\n",
       "\t<tr><td>Eagles</td><td>24 of 50</td><td>12 of 50</td><td>37 of 50</td><td>14 of 50</td></tr>\n",
       "\t<tr><td>Hawks </td><td>20 of 50</td><td>22 of 50</td><td>33 of 50</td><td>11 of 50</td></tr>\n",
       "</tbody>\n",
       "</table>\n"
      ],
      "text/latex": [
       "A tibble: 3 × 5\n",
       "\\begin{tabular}{lllll}\n",
       " Team & 1990 & 1991 & 1992 & 1993\\\\\n",
       " <chr> & <chr> & <chr> & <chr> & <chr>\\\\\n",
       "\\hline\n",
       "\t Ducks  & 30 of 50 & 11 of 50 & 30 of 50 & 12 of 50\\\\\n",
       "\t Eagles & 24 of 50 & 12 of 50 & 37 of 50 & 14 of 50\\\\\n",
       "\t Hawks  & 20 of 50 & 22 of 50 & 33 of 50 & 11 of 50\\\\\n",
       "\\end{tabular}\n"
      ],
      "text/markdown": [
       "\n",
       "A tibble: 3 × 5\n",
       "\n",
       "| Team &lt;chr&gt; | 1990 &lt;chr&gt; | 1991 &lt;chr&gt; | 1992 &lt;chr&gt; | 1993 &lt;chr&gt; |\n",
       "|---|---|---|---|---|\n",
       "| Ducks  | 30 of 50 | 11 of 50 | 30 of 50 | 12 of 50 |\n",
       "| Eagles | 24 of 50 | 12 of 50 | 37 of 50 | 14 of 50 |\n",
       "| Hawks  | 20 of 50 | 22 of 50 | 33 of 50 | 11 of 50 |\n",
       "\n"
      ],
      "text/plain": [
       "  Team   1990     1991     1992     1993    \n",
       "1 Ducks  30 of 50 11 of 50 30 of 50 12 of 50\n",
       "2 Eagles 24 of 50 12 of 50 37 of 50 14 of 50\n",
       "3 Hawks  20 of 50 22 of 50 33 of 50 11 of 50"
      ]
     },
     "metadata": {},
     "output_type": "display_data"
    }
   ],
   "source": [
    "wins_data_frame %>% select(1:5) %>% head(3)  # 前五列 + 前三行"
   ]
  },
  {
   "cell_type": "code",
   "execution_count": 12,
   "id": "2d3e83be-f7a7-41ee-82f6-6046afbd228d",
   "metadata": {},
   "outputs": [],
   "source": [
    "wins_tidy <- wins_data_frame %>% \n",
    "    pivot_longer(cols = !Team, names_to=\"Year\", values_to=\"Wins\") %>% \n",
    "    separate(Wins, into=c(\"Wins\", \"Total\"), sep=\" of \", convert = TRUE) %>%\n",
    "    mutate(Year = as.integer(Year)) "
   ]
  },
  {
   "cell_type": "code",
   "execution_count": 13,
   "id": "d2c1d9ef-8573-4022-8185-80b94aab18b0",
   "metadata": {
    "scrolled": true
   },
   "outputs": [
    {
     "data": {
      "text/html": [
       "<style>\n",
       ".list-inline {list-style: none; margin:0; padding: 0}\n",
       ".list-inline>li {display: inline-block}\n",
       ".list-inline>li:not(:last-child)::after {content: \"\\00b7\"; padding: 0 .5ex}\n",
       "</style>\n",
       "<ol class=list-inline><li>248</li><li>4</li></ol>\n"
      ],
      "text/latex": [
       "\\begin{enumerate*}\n",
       "\\item 248\n",
       "\\item 4\n",
       "\\end{enumerate*}\n"
      ],
      "text/markdown": [
       "1. 248\n",
       "2. 4\n",
       "\n",
       "\n"
      ],
      "text/plain": [
       "[1] 248   4"
      ]
     },
     "metadata": {},
     "output_type": "display_data"
    }
   ],
   "source": [
    "wins_tidy %>% dim()"
   ]
  },
  {
   "cell_type": "code",
   "execution_count": 14,
   "id": "c4373913-3fbb-4fc4-ac94-b5d082967e87",
   "metadata": {
    "scrolled": true
   },
   "outputs": [
    {
     "data": {
      "text/html": [
       "<table class=\"dataframe\">\n",
       "<caption>A tibble: 5 × 4</caption>\n",
       "<thead>\n",
       "\t<tr><th scope=col>Team</th><th scope=col>Year</th><th scope=col>Wins</th><th scope=col>Total</th></tr>\n",
       "\t<tr><th scope=col>&lt;chr&gt;</th><th scope=col>&lt;int&gt;</th><th scope=col>&lt;int&gt;</th><th scope=col>&lt;int&gt;</th></tr>\n",
       "</thead>\n",
       "<tbody>\n",
       "\t<tr><td>Ducks</td><td>1990</td><td>30</td><td>50</td></tr>\n",
       "\t<tr><td>Ducks</td><td>1991</td><td>11</td><td>50</td></tr>\n",
       "\t<tr><td>Ducks</td><td>1992</td><td>30</td><td>50</td></tr>\n",
       "\t<tr><td>Ducks</td><td>1993</td><td>12</td><td>50</td></tr>\n",
       "\t<tr><td>Ducks</td><td>1994</td><td>24</td><td>50</td></tr>\n",
       "</tbody>\n",
       "</table>\n"
      ],
      "text/latex": [
       "A tibble: 5 × 4\n",
       "\\begin{tabular}{llll}\n",
       " Team & Year & Wins & Total\\\\\n",
       " <chr> & <int> & <int> & <int>\\\\\n",
       "\\hline\n",
       "\t Ducks & 1990 & 30 & 50\\\\\n",
       "\t Ducks & 1991 & 11 & 50\\\\\n",
       "\t Ducks & 1992 & 30 & 50\\\\\n",
       "\t Ducks & 1993 & 12 & 50\\\\\n",
       "\t Ducks & 1994 & 24 & 50\\\\\n",
       "\\end{tabular}\n"
      ],
      "text/markdown": [
       "\n",
       "A tibble: 5 × 4\n",
       "\n",
       "| Team &lt;chr&gt; | Year &lt;int&gt; | Wins &lt;int&gt; | Total &lt;int&gt; |\n",
       "|---|---|---|---|\n",
       "| Ducks | 1990 | 30 | 50 |\n",
       "| Ducks | 1991 | 11 | 50 |\n",
       "| Ducks | 1992 | 30 | 50 |\n",
       "| Ducks | 1993 | 12 | 50 |\n",
       "| Ducks | 1994 | 24 | 50 |\n",
       "\n"
      ],
      "text/plain": [
       "  Team  Year Wins Total\n",
       "1 Ducks 1990 30   50   \n",
       "2 Ducks 1991 11   50   \n",
       "3 Ducks 1992 30   50   \n",
       "4 Ducks 1993 12   50   \n",
       "5 Ducks 1994 24   50   "
      ]
     },
     "metadata": {},
     "output_type": "display_data"
    }
   ],
   "source": [
    "wins_tidy%>%head(5)"
   ]
  },
  {
   "cell_type": "code",
   "execution_count": 15,
   "id": "01102f04-47ec-4887-a0d8-683bb253672f",
   "metadata": {},
   "outputs": [
    {
     "name": "stderr",
     "output_type": "stream",
     "text": [
      "\u001b[1m\u001b[22mNew names:\n",
      "\u001b[36m•\u001b[39m `` -> `...1`\n"
     ]
    }
   ],
   "source": [
    "losses_data_frame <- read_excel(file_path,sheet=\"Losses\") # read of a sheet from an xl file \n",
    "colnames(losses_data_frame)[1] <- \"Team\""
   ]
  },
  {
   "cell_type": "code",
   "execution_count": 16,
   "id": "cd55cdc7-3228-488f-aa33-0e510a214558",
   "metadata": {
    "scrolled": true
   },
   "outputs": [
    {
     "data": {
      "text/html": [
       "<table class=\"dataframe\">\n",
       "<caption>A tibble: 3 × 5</caption>\n",
       "<thead>\n",
       "\t<tr><th scope=col>Team</th><th scope=col>1990</th><th scope=col>1991</th><th scope=col>1992</th><th scope=col>1993</th></tr>\n",
       "\t<tr><th scope=col>&lt;chr&gt;</th><th scope=col>&lt;chr&gt;</th><th scope=col>&lt;chr&gt;</th><th scope=col>&lt;chr&gt;</th><th scope=col>&lt;chr&gt;</th></tr>\n",
       "</thead>\n",
       "<tbody>\n",
       "\t<tr><td>Ducks </td><td>20 of 50</td><td>37 of 50</td><td>1 of 50</td><td>30 of 50</td></tr>\n",
       "\t<tr><td>Eagles</td><td>9 of 50 </td><td>34 of 50</td><td>3 of 50</td><td>12 of 50</td></tr>\n",
       "\t<tr><td>Hawks </td><td>13 of 50</td><td>12 of 50</td><td>5 of 50</td><td>12 of 50</td></tr>\n",
       "</tbody>\n",
       "</table>\n"
      ],
      "text/latex": [
       "A tibble: 3 × 5\n",
       "\\begin{tabular}{lllll}\n",
       " Team & 1990 & 1991 & 1992 & 1993\\\\\n",
       " <chr> & <chr> & <chr> & <chr> & <chr>\\\\\n",
       "\\hline\n",
       "\t Ducks  & 20 of 50 & 37 of 50 & 1 of 50 & 30 of 50\\\\\n",
       "\t Eagles & 9 of 50  & 34 of 50 & 3 of 50 & 12 of 50\\\\\n",
       "\t Hawks  & 13 of 50 & 12 of 50 & 5 of 50 & 12 of 50\\\\\n",
       "\\end{tabular}\n"
      ],
      "text/markdown": [
       "\n",
       "A tibble: 3 × 5\n",
       "\n",
       "| Team &lt;chr&gt; | 1990 &lt;chr&gt; | 1991 &lt;chr&gt; | 1992 &lt;chr&gt; | 1993 &lt;chr&gt; |\n",
       "|---|---|---|---|---|\n",
       "| Ducks  | 20 of 50 | 37 of 50 | 1 of 50 | 30 of 50 |\n",
       "| Eagles | 9 of 50  | 34 of 50 | 3 of 50 | 12 of 50 |\n",
       "| Hawks  | 13 of 50 | 12 of 50 | 5 of 50 | 12 of 50 |\n",
       "\n"
      ],
      "text/plain": [
       "  Team   1990     1991     1992    1993    \n",
       "1 Ducks  20 of 50 37 of 50 1 of 50 30 of 50\n",
       "2 Eagles 9 of 50  34 of 50 3 of 50 12 of 50\n",
       "3 Hawks  13 of 50 12 of 50 5 of 50 12 of 50"
      ]
     },
     "metadata": {},
     "output_type": "display_data"
    }
   ],
   "source": [
    "losses_data_frame %>% select(1:5) %>% head(3)  # 前五列 + 前三行"
   ]
  },
  {
   "cell_type": "code",
   "execution_count": 17,
   "id": "ec75eabf-7513-4dc3-93c1-6bca4e6f39fb",
   "metadata": {},
   "outputs": [],
   "source": [
    "losses_tidy <- losses_data_frame %>% \n",
    "    pivot_longer(cols = !Team, names_to=\"Year\", values_to=\"Wins\") %>% \n",
    "    separate(Wins, into=c(\"Losses\", \"Total\"), sep=\" of \", convert = TRUE) %>%\n",
    "    mutate(Year = as.integer(Year)) "
   ]
  },
  {
   "cell_type": "code",
   "execution_count": 18,
   "id": "06010389-ddca-4f0a-8f8c-1f9d0b01445c",
   "metadata": {
    "scrolled": true
   },
   "outputs": [
    {
     "data": {
      "text/html": [
       "<table class=\"dataframe\">\n",
       "<caption>A tibble: 5 × 4</caption>\n",
       "<thead>\n",
       "\t<tr><th scope=col>Team</th><th scope=col>Year</th><th scope=col>Losses</th><th scope=col>Total</th></tr>\n",
       "\t<tr><th scope=col>&lt;chr&gt;</th><th scope=col>&lt;int&gt;</th><th scope=col>&lt;int&gt;</th><th scope=col>&lt;int&gt;</th></tr>\n",
       "</thead>\n",
       "<tbody>\n",
       "\t<tr><td>Ducks</td><td>1990</td><td>20</td><td>50</td></tr>\n",
       "\t<tr><td>Ducks</td><td>1991</td><td>37</td><td>50</td></tr>\n",
       "\t<tr><td>Ducks</td><td>1992</td><td> 1</td><td>50</td></tr>\n",
       "\t<tr><td>Ducks</td><td>1993</td><td>30</td><td>50</td></tr>\n",
       "\t<tr><td>Ducks</td><td>1994</td><td> 7</td><td>50</td></tr>\n",
       "</tbody>\n",
       "</table>\n"
      ],
      "text/latex": [
       "A tibble: 5 × 4\n",
       "\\begin{tabular}{llll}\n",
       " Team & Year & Losses & Total\\\\\n",
       " <chr> & <int> & <int> & <int>\\\\\n",
       "\\hline\n",
       "\t Ducks & 1990 & 20 & 50\\\\\n",
       "\t Ducks & 1991 & 37 & 50\\\\\n",
       "\t Ducks & 1992 &  1 & 50\\\\\n",
       "\t Ducks & 1993 & 30 & 50\\\\\n",
       "\t Ducks & 1994 &  7 & 50\\\\\n",
       "\\end{tabular}\n"
      ],
      "text/markdown": [
       "\n",
       "A tibble: 5 × 4\n",
       "\n",
       "| Team &lt;chr&gt; | Year &lt;int&gt; | Losses &lt;int&gt; | Total &lt;int&gt; |\n",
       "|---|---|---|---|\n",
       "| Ducks | 1990 | 20 | 50 |\n",
       "| Ducks | 1991 | 37 | 50 |\n",
       "| Ducks | 1992 |  1 | 50 |\n",
       "| Ducks | 1993 | 30 | 50 |\n",
       "| Ducks | 1994 |  7 | 50 |\n",
       "\n"
      ],
      "text/plain": [
       "  Team  Year Losses Total\n",
       "1 Ducks 1990 20     50   \n",
       "2 Ducks 1991 37     50   \n",
       "3 Ducks 1992  1     50   \n",
       "4 Ducks 1993 30     50   \n",
       "5 Ducks 1994  7     50   "
      ]
     },
     "metadata": {},
     "output_type": "display_data"
    }
   ],
   "source": [
    "losses_tidy %>% head(5) "
   ]
  },
  {
   "cell_type": "code",
   "execution_count": 19,
   "id": "14905cbd-6b10-4e0e-8b8d-c5e712a190ce",
   "metadata": {},
   "outputs": [
    {
     "name": "stderr",
     "output_type": "stream",
     "text": [
      "\u001b[1m\u001b[22mJoining with `by = join_by(Team, Year, Total)`\n"
     ]
    }
   ],
   "source": [
    "hockey_df <- full_join(wins_tidy, losses_tidy) %>%\n",
    "    mutate(Draws = Total - Wins - Losses) %>%\n",
    "    mutate(Wins_rt = Wins / Total) %>%\n",
    "    mutate(Losses_rt = Losses / Total) %>%\n",
    "    mutate(Draws_rt = Draws / Total)"
   ]
  },
  {
   "cell_type": "code",
   "execution_count": 20,
   "id": "70a68b45-4ea0-4c5d-a4d2-566e2749879e",
   "metadata": {
    "scrolled": true
   },
   "outputs": [
    {
     "data": {
      "text/html": [
       "<table class=\"dataframe\">\n",
       "<caption>A tibble: 248 × 9</caption>\n",
       "<thead>\n",
       "\t<tr><th scope=col>Team</th><th scope=col>Year</th><th scope=col>Wins</th><th scope=col>Total</th><th scope=col>Losses</th><th scope=col>Draws</th><th scope=col>Wins_rt</th><th scope=col>Losses_rt</th><th scope=col>Draws_rt</th></tr>\n",
       "\t<tr><th scope=col>&lt;chr&gt;</th><th scope=col>&lt;int&gt;</th><th scope=col>&lt;int&gt;</th><th scope=col>&lt;int&gt;</th><th scope=col>&lt;int&gt;</th><th scope=col>&lt;int&gt;</th><th scope=col>&lt;dbl&gt;</th><th scope=col>&lt;dbl&gt;</th><th scope=col>&lt;dbl&gt;</th></tr>\n",
       "</thead>\n",
       "<tbody>\n",
       "\t<tr><td>Ducks</td><td>1990</td><td>30</td><td>50</td><td>20</td><td> 0</td><td>0.6000000</td><td>0.40000000</td><td>0.00000000</td></tr>\n",
       "\t<tr><td>Ducks</td><td>1991</td><td>11</td><td>50</td><td>37</td><td> 2</td><td>0.2200000</td><td>0.74000000</td><td>0.04000000</td></tr>\n",
       "\t<tr><td>Ducks</td><td>1992</td><td>30</td><td>50</td><td> 1</td><td>19</td><td>0.6000000</td><td>0.02000000</td><td>0.38000000</td></tr>\n",
       "\t<tr><td>Ducks</td><td>1993</td><td>12</td><td>50</td><td>30</td><td> 8</td><td>0.2400000</td><td>0.60000000</td><td>0.16000000</td></tr>\n",
       "\t<tr><td>Ducks</td><td>1994</td><td>24</td><td>50</td><td> 7</td><td>19</td><td>0.4800000</td><td>0.14000000</td><td>0.38000000</td></tr>\n",
       "\t<tr><td>Ducks</td><td>1995</td><td>13</td><td>50</td><td> 2</td><td>35</td><td>0.2600000</td><td>0.04000000</td><td>0.70000000</td></tr>\n",
       "\t<tr><td>Ducks</td><td>1996</td><td>25</td><td>50</td><td>20</td><td> 5</td><td>0.5000000</td><td>0.40000000</td><td>0.10000000</td></tr>\n",
       "\t<tr><td>Ducks</td><td>1997</td><td>24</td><td>50</td><td> 9</td><td>17</td><td>0.4800000</td><td>0.18000000</td><td>0.34000000</td></tr>\n",
       "\t<tr><td>Ducks</td><td>1998</td><td>27</td><td>50</td><td>17</td><td> 6</td><td>0.5400000</td><td>0.34000000</td><td>0.12000000</td></tr>\n",
       "\t<tr><td>Ducks</td><td>1999</td><td>23</td><td>50</td><td>23</td><td> 4</td><td>0.4600000</td><td>0.46000000</td><td>0.08000000</td></tr>\n",
       "\t<tr><td>Ducks</td><td>2000</td><td>22</td><td>50</td><td>18</td><td>10</td><td>0.4400000</td><td>0.36000000</td><td>0.20000000</td></tr>\n",
       "\t<tr><td>Ducks</td><td>2001</td><td>21</td><td>60</td><td>37</td><td> 2</td><td>0.3500000</td><td>0.61666667</td><td>0.03333333</td></tr>\n",
       "\t<tr><td>Ducks</td><td>2002</td><td>23</td><td>60</td><td>13</td><td>24</td><td>0.3833333</td><td>0.21666667</td><td>0.40000000</td></tr>\n",
       "\t<tr><td>Ducks</td><td>2003</td><td>27</td><td>60</td><td> 7</td><td>26</td><td>0.4500000</td><td>0.11666667</td><td>0.43333333</td></tr>\n",
       "\t<tr><td>Ducks</td><td>2004</td><td>12</td><td>60</td><td>10</td><td>38</td><td>0.2000000</td><td>0.16666667</td><td>0.63333333</td></tr>\n",
       "\t<tr><td>Ducks</td><td>2005</td><td>24</td><td>60</td><td>10</td><td>26</td><td>0.4000000</td><td>0.16666667</td><td>0.43333333</td></tr>\n",
       "\t<tr><td>Ducks</td><td>2006</td><td>26</td><td>60</td><td>17</td><td>17</td><td>0.4333333</td><td>0.28333333</td><td>0.28333333</td></tr>\n",
       "\t<tr><td>Ducks</td><td>2007</td><td>14</td><td>60</td><td> 2</td><td>44</td><td>0.2333333</td><td>0.03333333</td><td>0.73333333</td></tr>\n",
       "\t<tr><td>Ducks</td><td>2008</td><td>26</td><td>60</td><td>23</td><td>11</td><td>0.4333333</td><td>0.38333333</td><td>0.18333333</td></tr>\n",
       "\t<tr><td>Ducks</td><td>2009</td><td>14</td><td>60</td><td>46</td><td> 0</td><td>0.2333333</td><td>0.76666667</td><td>0.00000000</td></tr>\n",
       "\t<tr><td>Ducks</td><td>2010</td><td>11</td><td>60</td><td> 1</td><td>48</td><td>0.1833333</td><td>0.01666667</td><td>0.80000000</td></tr>\n",
       "\t<tr><td>Ducks</td><td>2011</td><td>16</td><td>60</td><td>34</td><td>10</td><td>0.2666667</td><td>0.56666667</td><td>0.16666667</td></tr>\n",
       "\t<tr><td>Ducks</td><td>2012</td><td>10</td><td>60</td><td>42</td><td> 8</td><td>0.1666667</td><td>0.70000000</td><td>0.13333333</td></tr>\n",
       "\t<tr><td>Ducks</td><td>2013</td><td>25</td><td>60</td><td> 3</td><td>32</td><td>0.4166667</td><td>0.05000000</td><td>0.53333333</td></tr>\n",
       "\t<tr><td>Ducks</td><td>2014</td><td>11</td><td>60</td><td>26</td><td>23</td><td>0.1833333</td><td>0.43333333</td><td>0.38333333</td></tr>\n",
       "\t<tr><td>Ducks</td><td>2015</td><td>16</td><td>60</td><td>11</td><td>33</td><td>0.2666667</td><td>0.18333333</td><td>0.55000000</td></tr>\n",
       "\t<tr><td>Ducks</td><td>2016</td><td>17</td><td>60</td><td>30</td><td>13</td><td>0.2833333</td><td>0.50000000</td><td>0.21666667</td></tr>\n",
       "\t<tr><td>Ducks</td><td>2017</td><td>29</td><td>60</td><td>17</td><td>14</td><td>0.4833333</td><td>0.28333333</td><td>0.23333333</td></tr>\n",
       "\t<tr><td>Ducks</td><td>2018</td><td>14</td><td>60</td><td>31</td><td>15</td><td>0.2333333</td><td>0.51666667</td><td>0.25000000</td></tr>\n",
       "\t<tr><td>Ducks</td><td>2019</td><td>23</td><td>60</td><td>17</td><td>20</td><td>0.3833333</td><td>0.28333333</td><td>0.33333333</td></tr>\n",
       "\t<tr><td>⋮</td><td>⋮</td><td>⋮</td><td>⋮</td><td>⋮</td><td>⋮</td><td>⋮</td><td>⋮</td><td>⋮</td></tr>\n",
       "\t<tr><td>Storks</td><td>1991</td><td>13</td><td>50</td><td> 2</td><td>35</td><td>0.2600000</td><td>0.04000000</td><td>0.70000000</td></tr>\n",
       "\t<tr><td>Storks</td><td>1992</td><td>18</td><td>50</td><td> 0</td><td>32</td><td>0.3600000</td><td>0.00000000</td><td>0.64000000</td></tr>\n",
       "\t<tr><td>Storks</td><td>1993</td><td>22</td><td>50</td><td>21</td><td> 7</td><td>0.4400000</td><td>0.42000000</td><td>0.14000000</td></tr>\n",
       "\t<tr><td>Storks</td><td>1994</td><td>19</td><td>50</td><td> 2</td><td>29</td><td>0.3800000</td><td>0.04000000</td><td>0.58000000</td></tr>\n",
       "\t<tr><td>Storks</td><td>1995</td><td>11</td><td>50</td><td>17</td><td>22</td><td>0.2200000</td><td>0.34000000</td><td>0.44000000</td></tr>\n",
       "\t<tr><td>Storks</td><td>1996</td><td>15</td><td>50</td><td>14</td><td>21</td><td>0.3000000</td><td>0.28000000</td><td>0.42000000</td></tr>\n",
       "\t<tr><td>Storks</td><td>1997</td><td>15</td><td>50</td><td>11</td><td>24</td><td>0.3000000</td><td>0.22000000</td><td>0.48000000</td></tr>\n",
       "\t<tr><td>Storks</td><td>1998</td><td>14</td><td>50</td><td>12</td><td>24</td><td>0.2800000</td><td>0.24000000</td><td>0.48000000</td></tr>\n",
       "\t<tr><td>Storks</td><td>1999</td><td>13</td><td>50</td><td>29</td><td> 8</td><td>0.2600000</td><td>0.58000000</td><td>0.16000000</td></tr>\n",
       "\t<tr><td>Storks</td><td>2000</td><td>15</td><td>50</td><td> 5</td><td>30</td><td>0.3000000</td><td>0.10000000</td><td>0.60000000</td></tr>\n",
       "\t<tr><td>Storks</td><td>2001</td><td>12</td><td>60</td><td>13</td><td>35</td><td>0.2000000</td><td>0.21666667</td><td>0.58333333</td></tr>\n",
       "\t<tr><td>Storks</td><td>2002</td><td>12</td><td>60</td><td> 0</td><td>48</td><td>0.2000000</td><td>0.00000000</td><td>0.80000000</td></tr>\n",
       "\t<tr><td>Storks</td><td>2003</td><td>10</td><td>60</td><td>40</td><td>10</td><td>0.1666667</td><td>0.66666667</td><td>0.16666667</td></tr>\n",
       "\t<tr><td>Storks</td><td>2004</td><td>10</td><td>60</td><td>25</td><td>25</td><td>0.1666667</td><td>0.41666667</td><td>0.41666667</td></tr>\n",
       "\t<tr><td>Storks</td><td>2005</td><td>21</td><td>60</td><td> 6</td><td>33</td><td>0.3500000</td><td>0.10000000</td><td>0.55000000</td></tr>\n",
       "\t<tr><td>Storks</td><td>2006</td><td>10</td><td>60</td><td>10</td><td>40</td><td>0.1666667</td><td>0.16666667</td><td>0.66666667</td></tr>\n",
       "\t<tr><td>Storks</td><td>2007</td><td>22</td><td>60</td><td> 1</td><td>37</td><td>0.3666667</td><td>0.01666667</td><td>0.61666667</td></tr>\n",
       "\t<tr><td>Storks</td><td>2008</td><td>14</td><td>60</td><td>46</td><td> 0</td><td>0.2333333</td><td>0.76666667</td><td>0.00000000</td></tr>\n",
       "\t<tr><td>Storks</td><td>2009</td><td>22</td><td>60</td><td>18</td><td>20</td><td>0.3666667</td><td>0.30000000</td><td>0.33333333</td></tr>\n",
       "\t<tr><td>Storks</td><td>2010</td><td>12</td><td>60</td><td>12</td><td>36</td><td>0.2000000</td><td>0.20000000</td><td>0.60000000</td></tr>\n",
       "\t<tr><td>Storks</td><td>2011</td><td>22</td><td>60</td><td>12</td><td>26</td><td>0.3666667</td><td>0.20000000</td><td>0.43333333</td></tr>\n",
       "\t<tr><td>Storks</td><td>2012</td><td>18</td><td>60</td><td>13</td><td>29</td><td>0.3000000</td><td>0.21666667</td><td>0.48333333</td></tr>\n",
       "\t<tr><td>Storks</td><td>2013</td><td>19</td><td>60</td><td>25</td><td>16</td><td>0.3166667</td><td>0.41666667</td><td>0.26666667</td></tr>\n",
       "\t<tr><td>Storks</td><td>2014</td><td>19</td><td>60</td><td> 8</td><td>33</td><td>0.3166667</td><td>0.13333333</td><td>0.55000000</td></tr>\n",
       "\t<tr><td>Storks</td><td>2015</td><td>14</td><td>60</td><td>35</td><td>11</td><td>0.2333333</td><td>0.58333333</td><td>0.18333333</td></tr>\n",
       "\t<tr><td>Storks</td><td>2016</td><td>19</td><td>60</td><td> 4</td><td>37</td><td>0.3166667</td><td>0.06666667</td><td>0.61666667</td></tr>\n",
       "\t<tr><td>Storks</td><td>2017</td><td>15</td><td>60</td><td>24</td><td>21</td><td>0.2500000</td><td>0.40000000</td><td>0.35000000</td></tr>\n",
       "\t<tr><td>Storks</td><td>2018</td><td>12</td><td>60</td><td>32</td><td>16</td><td>0.2000000</td><td>0.53333333</td><td>0.26666667</td></tr>\n",
       "\t<tr><td>Storks</td><td>2019</td><td>20</td><td>60</td><td>35</td><td> 5</td><td>0.3333333</td><td>0.58333333</td><td>0.08333333</td></tr>\n",
       "\t<tr><td>Storks</td><td>2020</td><td>15</td><td>60</td><td> 5</td><td>40</td><td>0.2500000</td><td>0.08333333</td><td>0.66666667</td></tr>\n",
       "</tbody>\n",
       "</table>\n"
      ],
      "text/latex": [
       "A tibble: 248 × 9\n",
       "\\begin{tabular}{lllllllll}\n",
       " Team & Year & Wins & Total & Losses & Draws & Wins\\_rt & Losses\\_rt & Draws\\_rt\\\\\n",
       " <chr> & <int> & <int> & <int> & <int> & <int> & <dbl> & <dbl> & <dbl>\\\\\n",
       "\\hline\n",
       "\t Ducks & 1990 & 30 & 50 & 20 &  0 & 0.6000000 & 0.40000000 & 0.00000000\\\\\n",
       "\t Ducks & 1991 & 11 & 50 & 37 &  2 & 0.2200000 & 0.74000000 & 0.04000000\\\\\n",
       "\t Ducks & 1992 & 30 & 50 &  1 & 19 & 0.6000000 & 0.02000000 & 0.38000000\\\\\n",
       "\t Ducks & 1993 & 12 & 50 & 30 &  8 & 0.2400000 & 0.60000000 & 0.16000000\\\\\n",
       "\t Ducks & 1994 & 24 & 50 &  7 & 19 & 0.4800000 & 0.14000000 & 0.38000000\\\\\n",
       "\t Ducks & 1995 & 13 & 50 &  2 & 35 & 0.2600000 & 0.04000000 & 0.70000000\\\\\n",
       "\t Ducks & 1996 & 25 & 50 & 20 &  5 & 0.5000000 & 0.40000000 & 0.10000000\\\\\n",
       "\t Ducks & 1997 & 24 & 50 &  9 & 17 & 0.4800000 & 0.18000000 & 0.34000000\\\\\n",
       "\t Ducks & 1998 & 27 & 50 & 17 &  6 & 0.5400000 & 0.34000000 & 0.12000000\\\\\n",
       "\t Ducks & 1999 & 23 & 50 & 23 &  4 & 0.4600000 & 0.46000000 & 0.08000000\\\\\n",
       "\t Ducks & 2000 & 22 & 50 & 18 & 10 & 0.4400000 & 0.36000000 & 0.20000000\\\\\n",
       "\t Ducks & 2001 & 21 & 60 & 37 &  2 & 0.3500000 & 0.61666667 & 0.03333333\\\\\n",
       "\t Ducks & 2002 & 23 & 60 & 13 & 24 & 0.3833333 & 0.21666667 & 0.40000000\\\\\n",
       "\t Ducks & 2003 & 27 & 60 &  7 & 26 & 0.4500000 & 0.11666667 & 0.43333333\\\\\n",
       "\t Ducks & 2004 & 12 & 60 & 10 & 38 & 0.2000000 & 0.16666667 & 0.63333333\\\\\n",
       "\t Ducks & 2005 & 24 & 60 & 10 & 26 & 0.4000000 & 0.16666667 & 0.43333333\\\\\n",
       "\t Ducks & 2006 & 26 & 60 & 17 & 17 & 0.4333333 & 0.28333333 & 0.28333333\\\\\n",
       "\t Ducks & 2007 & 14 & 60 &  2 & 44 & 0.2333333 & 0.03333333 & 0.73333333\\\\\n",
       "\t Ducks & 2008 & 26 & 60 & 23 & 11 & 0.4333333 & 0.38333333 & 0.18333333\\\\\n",
       "\t Ducks & 2009 & 14 & 60 & 46 &  0 & 0.2333333 & 0.76666667 & 0.00000000\\\\\n",
       "\t Ducks & 2010 & 11 & 60 &  1 & 48 & 0.1833333 & 0.01666667 & 0.80000000\\\\\n",
       "\t Ducks & 2011 & 16 & 60 & 34 & 10 & 0.2666667 & 0.56666667 & 0.16666667\\\\\n",
       "\t Ducks & 2012 & 10 & 60 & 42 &  8 & 0.1666667 & 0.70000000 & 0.13333333\\\\\n",
       "\t Ducks & 2013 & 25 & 60 &  3 & 32 & 0.4166667 & 0.05000000 & 0.53333333\\\\\n",
       "\t Ducks & 2014 & 11 & 60 & 26 & 23 & 0.1833333 & 0.43333333 & 0.38333333\\\\\n",
       "\t Ducks & 2015 & 16 & 60 & 11 & 33 & 0.2666667 & 0.18333333 & 0.55000000\\\\\n",
       "\t Ducks & 2016 & 17 & 60 & 30 & 13 & 0.2833333 & 0.50000000 & 0.21666667\\\\\n",
       "\t Ducks & 2017 & 29 & 60 & 17 & 14 & 0.4833333 & 0.28333333 & 0.23333333\\\\\n",
       "\t Ducks & 2018 & 14 & 60 & 31 & 15 & 0.2333333 & 0.51666667 & 0.25000000\\\\\n",
       "\t Ducks & 2019 & 23 & 60 & 17 & 20 & 0.3833333 & 0.28333333 & 0.33333333\\\\\n",
       "\t ⋮ & ⋮ & ⋮ & ⋮ & ⋮ & ⋮ & ⋮ & ⋮ & ⋮\\\\\n",
       "\t Storks & 1991 & 13 & 50 &  2 & 35 & 0.2600000 & 0.04000000 & 0.70000000\\\\\n",
       "\t Storks & 1992 & 18 & 50 &  0 & 32 & 0.3600000 & 0.00000000 & 0.64000000\\\\\n",
       "\t Storks & 1993 & 22 & 50 & 21 &  7 & 0.4400000 & 0.42000000 & 0.14000000\\\\\n",
       "\t Storks & 1994 & 19 & 50 &  2 & 29 & 0.3800000 & 0.04000000 & 0.58000000\\\\\n",
       "\t Storks & 1995 & 11 & 50 & 17 & 22 & 0.2200000 & 0.34000000 & 0.44000000\\\\\n",
       "\t Storks & 1996 & 15 & 50 & 14 & 21 & 0.3000000 & 0.28000000 & 0.42000000\\\\\n",
       "\t Storks & 1997 & 15 & 50 & 11 & 24 & 0.3000000 & 0.22000000 & 0.48000000\\\\\n",
       "\t Storks & 1998 & 14 & 50 & 12 & 24 & 0.2800000 & 0.24000000 & 0.48000000\\\\\n",
       "\t Storks & 1999 & 13 & 50 & 29 &  8 & 0.2600000 & 0.58000000 & 0.16000000\\\\\n",
       "\t Storks & 2000 & 15 & 50 &  5 & 30 & 0.3000000 & 0.10000000 & 0.60000000\\\\\n",
       "\t Storks & 2001 & 12 & 60 & 13 & 35 & 0.2000000 & 0.21666667 & 0.58333333\\\\\n",
       "\t Storks & 2002 & 12 & 60 &  0 & 48 & 0.2000000 & 0.00000000 & 0.80000000\\\\\n",
       "\t Storks & 2003 & 10 & 60 & 40 & 10 & 0.1666667 & 0.66666667 & 0.16666667\\\\\n",
       "\t Storks & 2004 & 10 & 60 & 25 & 25 & 0.1666667 & 0.41666667 & 0.41666667\\\\\n",
       "\t Storks & 2005 & 21 & 60 &  6 & 33 & 0.3500000 & 0.10000000 & 0.55000000\\\\\n",
       "\t Storks & 2006 & 10 & 60 & 10 & 40 & 0.1666667 & 0.16666667 & 0.66666667\\\\\n",
       "\t Storks & 2007 & 22 & 60 &  1 & 37 & 0.3666667 & 0.01666667 & 0.61666667\\\\\n",
       "\t Storks & 2008 & 14 & 60 & 46 &  0 & 0.2333333 & 0.76666667 & 0.00000000\\\\\n",
       "\t Storks & 2009 & 22 & 60 & 18 & 20 & 0.3666667 & 0.30000000 & 0.33333333\\\\\n",
       "\t Storks & 2010 & 12 & 60 & 12 & 36 & 0.2000000 & 0.20000000 & 0.60000000\\\\\n",
       "\t Storks & 2011 & 22 & 60 & 12 & 26 & 0.3666667 & 0.20000000 & 0.43333333\\\\\n",
       "\t Storks & 2012 & 18 & 60 & 13 & 29 & 0.3000000 & 0.21666667 & 0.48333333\\\\\n",
       "\t Storks & 2013 & 19 & 60 & 25 & 16 & 0.3166667 & 0.41666667 & 0.26666667\\\\\n",
       "\t Storks & 2014 & 19 & 60 &  8 & 33 & 0.3166667 & 0.13333333 & 0.55000000\\\\\n",
       "\t Storks & 2015 & 14 & 60 & 35 & 11 & 0.2333333 & 0.58333333 & 0.18333333\\\\\n",
       "\t Storks & 2016 & 19 & 60 &  4 & 37 & 0.3166667 & 0.06666667 & 0.61666667\\\\\n",
       "\t Storks & 2017 & 15 & 60 & 24 & 21 & 0.2500000 & 0.40000000 & 0.35000000\\\\\n",
       "\t Storks & 2018 & 12 & 60 & 32 & 16 & 0.2000000 & 0.53333333 & 0.26666667\\\\\n",
       "\t Storks & 2019 & 20 & 60 & 35 &  5 & 0.3333333 & 0.58333333 & 0.08333333\\\\\n",
       "\t Storks & 2020 & 15 & 60 &  5 & 40 & 0.2500000 & 0.08333333 & 0.66666667\\\\\n",
       "\\end{tabular}\n"
      ],
      "text/markdown": [
       "\n",
       "A tibble: 248 × 9\n",
       "\n",
       "| Team &lt;chr&gt; | Year &lt;int&gt; | Wins &lt;int&gt; | Total &lt;int&gt; | Losses &lt;int&gt; | Draws &lt;int&gt; | Wins_rt &lt;dbl&gt; | Losses_rt &lt;dbl&gt; | Draws_rt &lt;dbl&gt; |\n",
       "|---|---|---|---|---|---|---|---|---|\n",
       "| Ducks | 1990 | 30 | 50 | 20 |  0 | 0.6000000 | 0.40000000 | 0.00000000 |\n",
       "| Ducks | 1991 | 11 | 50 | 37 |  2 | 0.2200000 | 0.74000000 | 0.04000000 |\n",
       "| Ducks | 1992 | 30 | 50 |  1 | 19 | 0.6000000 | 0.02000000 | 0.38000000 |\n",
       "| Ducks | 1993 | 12 | 50 | 30 |  8 | 0.2400000 | 0.60000000 | 0.16000000 |\n",
       "| Ducks | 1994 | 24 | 50 |  7 | 19 | 0.4800000 | 0.14000000 | 0.38000000 |\n",
       "| Ducks | 1995 | 13 | 50 |  2 | 35 | 0.2600000 | 0.04000000 | 0.70000000 |\n",
       "| Ducks | 1996 | 25 | 50 | 20 |  5 | 0.5000000 | 0.40000000 | 0.10000000 |\n",
       "| Ducks | 1997 | 24 | 50 |  9 | 17 | 0.4800000 | 0.18000000 | 0.34000000 |\n",
       "| Ducks | 1998 | 27 | 50 | 17 |  6 | 0.5400000 | 0.34000000 | 0.12000000 |\n",
       "| Ducks | 1999 | 23 | 50 | 23 |  4 | 0.4600000 | 0.46000000 | 0.08000000 |\n",
       "| Ducks | 2000 | 22 | 50 | 18 | 10 | 0.4400000 | 0.36000000 | 0.20000000 |\n",
       "| Ducks | 2001 | 21 | 60 | 37 |  2 | 0.3500000 | 0.61666667 | 0.03333333 |\n",
       "| Ducks | 2002 | 23 | 60 | 13 | 24 | 0.3833333 | 0.21666667 | 0.40000000 |\n",
       "| Ducks | 2003 | 27 | 60 |  7 | 26 | 0.4500000 | 0.11666667 | 0.43333333 |\n",
       "| Ducks | 2004 | 12 | 60 | 10 | 38 | 0.2000000 | 0.16666667 | 0.63333333 |\n",
       "| Ducks | 2005 | 24 | 60 | 10 | 26 | 0.4000000 | 0.16666667 | 0.43333333 |\n",
       "| Ducks | 2006 | 26 | 60 | 17 | 17 | 0.4333333 | 0.28333333 | 0.28333333 |\n",
       "| Ducks | 2007 | 14 | 60 |  2 | 44 | 0.2333333 | 0.03333333 | 0.73333333 |\n",
       "| Ducks | 2008 | 26 | 60 | 23 | 11 | 0.4333333 | 0.38333333 | 0.18333333 |\n",
       "| Ducks | 2009 | 14 | 60 | 46 |  0 | 0.2333333 | 0.76666667 | 0.00000000 |\n",
       "| Ducks | 2010 | 11 | 60 |  1 | 48 | 0.1833333 | 0.01666667 | 0.80000000 |\n",
       "| Ducks | 2011 | 16 | 60 | 34 | 10 | 0.2666667 | 0.56666667 | 0.16666667 |\n",
       "| Ducks | 2012 | 10 | 60 | 42 |  8 | 0.1666667 | 0.70000000 | 0.13333333 |\n",
       "| Ducks | 2013 | 25 | 60 |  3 | 32 | 0.4166667 | 0.05000000 | 0.53333333 |\n",
       "| Ducks | 2014 | 11 | 60 | 26 | 23 | 0.1833333 | 0.43333333 | 0.38333333 |\n",
       "| Ducks | 2015 | 16 | 60 | 11 | 33 | 0.2666667 | 0.18333333 | 0.55000000 |\n",
       "| Ducks | 2016 | 17 | 60 | 30 | 13 | 0.2833333 | 0.50000000 | 0.21666667 |\n",
       "| Ducks | 2017 | 29 | 60 | 17 | 14 | 0.4833333 | 0.28333333 | 0.23333333 |\n",
       "| Ducks | 2018 | 14 | 60 | 31 | 15 | 0.2333333 | 0.51666667 | 0.25000000 |\n",
       "| Ducks | 2019 | 23 | 60 | 17 | 20 | 0.3833333 | 0.28333333 | 0.33333333 |\n",
       "| ⋮ | ⋮ | ⋮ | ⋮ | ⋮ | ⋮ | ⋮ | ⋮ | ⋮ |\n",
       "| Storks | 1991 | 13 | 50 |  2 | 35 | 0.2600000 | 0.04000000 | 0.70000000 |\n",
       "| Storks | 1992 | 18 | 50 |  0 | 32 | 0.3600000 | 0.00000000 | 0.64000000 |\n",
       "| Storks | 1993 | 22 | 50 | 21 |  7 | 0.4400000 | 0.42000000 | 0.14000000 |\n",
       "| Storks | 1994 | 19 | 50 |  2 | 29 | 0.3800000 | 0.04000000 | 0.58000000 |\n",
       "| Storks | 1995 | 11 | 50 | 17 | 22 | 0.2200000 | 0.34000000 | 0.44000000 |\n",
       "| Storks | 1996 | 15 | 50 | 14 | 21 | 0.3000000 | 0.28000000 | 0.42000000 |\n",
       "| Storks | 1997 | 15 | 50 | 11 | 24 | 0.3000000 | 0.22000000 | 0.48000000 |\n",
       "| Storks | 1998 | 14 | 50 | 12 | 24 | 0.2800000 | 0.24000000 | 0.48000000 |\n",
       "| Storks | 1999 | 13 | 50 | 29 |  8 | 0.2600000 | 0.58000000 | 0.16000000 |\n",
       "| Storks | 2000 | 15 | 50 |  5 | 30 | 0.3000000 | 0.10000000 | 0.60000000 |\n",
       "| Storks | 2001 | 12 | 60 | 13 | 35 | 0.2000000 | 0.21666667 | 0.58333333 |\n",
       "| Storks | 2002 | 12 | 60 |  0 | 48 | 0.2000000 | 0.00000000 | 0.80000000 |\n",
       "| Storks | 2003 | 10 | 60 | 40 | 10 | 0.1666667 | 0.66666667 | 0.16666667 |\n",
       "| Storks | 2004 | 10 | 60 | 25 | 25 | 0.1666667 | 0.41666667 | 0.41666667 |\n",
       "| Storks | 2005 | 21 | 60 |  6 | 33 | 0.3500000 | 0.10000000 | 0.55000000 |\n",
       "| Storks | 2006 | 10 | 60 | 10 | 40 | 0.1666667 | 0.16666667 | 0.66666667 |\n",
       "| Storks | 2007 | 22 | 60 |  1 | 37 | 0.3666667 | 0.01666667 | 0.61666667 |\n",
       "| Storks | 2008 | 14 | 60 | 46 |  0 | 0.2333333 | 0.76666667 | 0.00000000 |\n",
       "| Storks | 2009 | 22 | 60 | 18 | 20 | 0.3666667 | 0.30000000 | 0.33333333 |\n",
       "| Storks | 2010 | 12 | 60 | 12 | 36 | 0.2000000 | 0.20000000 | 0.60000000 |\n",
       "| Storks | 2011 | 22 | 60 | 12 | 26 | 0.3666667 | 0.20000000 | 0.43333333 |\n",
       "| Storks | 2012 | 18 | 60 | 13 | 29 | 0.3000000 | 0.21666667 | 0.48333333 |\n",
       "| Storks | 2013 | 19 | 60 | 25 | 16 | 0.3166667 | 0.41666667 | 0.26666667 |\n",
       "| Storks | 2014 | 19 | 60 |  8 | 33 | 0.3166667 | 0.13333333 | 0.55000000 |\n",
       "| Storks | 2015 | 14 | 60 | 35 | 11 | 0.2333333 | 0.58333333 | 0.18333333 |\n",
       "| Storks | 2016 | 19 | 60 |  4 | 37 | 0.3166667 | 0.06666667 | 0.61666667 |\n",
       "| Storks | 2017 | 15 | 60 | 24 | 21 | 0.2500000 | 0.40000000 | 0.35000000 |\n",
       "| Storks | 2018 | 12 | 60 | 32 | 16 | 0.2000000 | 0.53333333 | 0.26666667 |\n",
       "| Storks | 2019 | 20 | 60 | 35 |  5 | 0.3333333 | 0.58333333 | 0.08333333 |\n",
       "| Storks | 2020 | 15 | 60 |  5 | 40 | 0.2500000 | 0.08333333 | 0.66666667 |\n",
       "\n"
      ],
      "text/plain": [
       "    Team   Year Wins Total Losses Draws Wins_rt   Losses_rt  Draws_rt  \n",
       "1   Ducks  1990 30   50    20      0    0.6000000 0.40000000 0.00000000\n",
       "2   Ducks  1991 11   50    37      2    0.2200000 0.74000000 0.04000000\n",
       "3   Ducks  1992 30   50     1     19    0.6000000 0.02000000 0.38000000\n",
       "4   Ducks  1993 12   50    30      8    0.2400000 0.60000000 0.16000000\n",
       "5   Ducks  1994 24   50     7     19    0.4800000 0.14000000 0.38000000\n",
       "6   Ducks  1995 13   50     2     35    0.2600000 0.04000000 0.70000000\n",
       "7   Ducks  1996 25   50    20      5    0.5000000 0.40000000 0.10000000\n",
       "8   Ducks  1997 24   50     9     17    0.4800000 0.18000000 0.34000000\n",
       "9   Ducks  1998 27   50    17      6    0.5400000 0.34000000 0.12000000\n",
       "10  Ducks  1999 23   50    23      4    0.4600000 0.46000000 0.08000000\n",
       "11  Ducks  2000 22   50    18     10    0.4400000 0.36000000 0.20000000\n",
       "12  Ducks  2001 21   60    37      2    0.3500000 0.61666667 0.03333333\n",
       "13  Ducks  2002 23   60    13     24    0.3833333 0.21666667 0.40000000\n",
       "14  Ducks  2003 27   60     7     26    0.4500000 0.11666667 0.43333333\n",
       "15  Ducks  2004 12   60    10     38    0.2000000 0.16666667 0.63333333\n",
       "16  Ducks  2005 24   60    10     26    0.4000000 0.16666667 0.43333333\n",
       "17  Ducks  2006 26   60    17     17    0.4333333 0.28333333 0.28333333\n",
       "18  Ducks  2007 14   60     2     44    0.2333333 0.03333333 0.73333333\n",
       "19  Ducks  2008 26   60    23     11    0.4333333 0.38333333 0.18333333\n",
       "20  Ducks  2009 14   60    46      0    0.2333333 0.76666667 0.00000000\n",
       "21  Ducks  2010 11   60     1     48    0.1833333 0.01666667 0.80000000\n",
       "22  Ducks  2011 16   60    34     10    0.2666667 0.56666667 0.16666667\n",
       "23  Ducks  2012 10   60    42      8    0.1666667 0.70000000 0.13333333\n",
       "24  Ducks  2013 25   60     3     32    0.4166667 0.05000000 0.53333333\n",
       "25  Ducks  2014 11   60    26     23    0.1833333 0.43333333 0.38333333\n",
       "26  Ducks  2015 16   60    11     33    0.2666667 0.18333333 0.55000000\n",
       "27  Ducks  2016 17   60    30     13    0.2833333 0.50000000 0.21666667\n",
       "28  Ducks  2017 29   60    17     14    0.4833333 0.28333333 0.23333333\n",
       "29  Ducks  2018 14   60    31     15    0.2333333 0.51666667 0.25000000\n",
       "30  Ducks  2019 23   60    17     20    0.3833333 0.28333333 0.33333333\n",
       "⋮   ⋮      ⋮    ⋮    ⋮     ⋮      ⋮     ⋮         ⋮          ⋮         \n",
       "219 Storks 1991 13   50     2     35    0.2600000 0.04000000 0.70000000\n",
       "220 Storks 1992 18   50     0     32    0.3600000 0.00000000 0.64000000\n",
       "221 Storks 1993 22   50    21      7    0.4400000 0.42000000 0.14000000\n",
       "222 Storks 1994 19   50     2     29    0.3800000 0.04000000 0.58000000\n",
       "223 Storks 1995 11   50    17     22    0.2200000 0.34000000 0.44000000\n",
       "224 Storks 1996 15   50    14     21    0.3000000 0.28000000 0.42000000\n",
       "225 Storks 1997 15   50    11     24    0.3000000 0.22000000 0.48000000\n",
       "226 Storks 1998 14   50    12     24    0.2800000 0.24000000 0.48000000\n",
       "227 Storks 1999 13   50    29      8    0.2600000 0.58000000 0.16000000\n",
       "228 Storks 2000 15   50     5     30    0.3000000 0.10000000 0.60000000\n",
       "229 Storks 2001 12   60    13     35    0.2000000 0.21666667 0.58333333\n",
       "230 Storks 2002 12   60     0     48    0.2000000 0.00000000 0.80000000\n",
       "231 Storks 2003 10   60    40     10    0.1666667 0.66666667 0.16666667\n",
       "232 Storks 2004 10   60    25     25    0.1666667 0.41666667 0.41666667\n",
       "233 Storks 2005 21   60     6     33    0.3500000 0.10000000 0.55000000\n",
       "234 Storks 2006 10   60    10     40    0.1666667 0.16666667 0.66666667\n",
       "235 Storks 2007 22   60     1     37    0.3666667 0.01666667 0.61666667\n",
       "236 Storks 2008 14   60    46      0    0.2333333 0.76666667 0.00000000\n",
       "237 Storks 2009 22   60    18     20    0.3666667 0.30000000 0.33333333\n",
       "238 Storks 2010 12   60    12     36    0.2000000 0.20000000 0.60000000\n",
       "239 Storks 2011 22   60    12     26    0.3666667 0.20000000 0.43333333\n",
       "240 Storks 2012 18   60    13     29    0.3000000 0.21666667 0.48333333\n",
       "241 Storks 2013 19   60    25     16    0.3166667 0.41666667 0.26666667\n",
       "242 Storks 2014 19   60     8     33    0.3166667 0.13333333 0.55000000\n",
       "243 Storks 2015 14   60    35     11    0.2333333 0.58333333 0.18333333\n",
       "244 Storks 2016 19   60     4     37    0.3166667 0.06666667 0.61666667\n",
       "245 Storks 2017 15   60    24     21    0.2500000 0.40000000 0.35000000\n",
       "246 Storks 2018 12   60    32     16    0.2000000 0.53333333 0.26666667\n",
       "247 Storks 2019 20   60    35      5    0.3333333 0.58333333 0.08333333\n",
       "248 Storks 2020 15   60     5     40    0.2500000 0.08333333 0.66666667"
      ]
     },
     "metadata": {},
     "output_type": "display_data"
    }
   ],
   "source": [
    "hockey_df"
   ]
  },
  {
   "cell_type": "code",
   "execution_count": 21,
   "id": "bfc2b30f-28fc-4d3a-b992-b568ad79bebf",
   "metadata": {},
   "outputs": [],
   "source": [
    "team_statistics <- hockey_df %>%\n",
    "    select(Team, Wins_rt, Losses_rt, Draws_rt) %>%  \n",
    "    group_by(Team) %>%\n",
    "    summarise(\n",
    "        W_md = median(Wins_rt, na.rm = TRUE),\n",
    "        W_mn = mean(Wins_rt, na.rm = TRUE),\n",
    "        L_md = median(Losses_rt, na.rm = TRUE),\n",
    "        L_mn = mean(Losses_rt, na.rm = TRUE),\n",
    "        D_md = median(Draws_rt, na.rm = TRUE),\n",
    "        D_mn = mean(Draws_rt, na.rm = TRUE),\n",
    "    ) %>%\n",
    "    arrange(desc(W_md))"
   ]
  },
  {
   "cell_type": "code",
   "execution_count": 22,
   "id": "fc4331ac-5a8f-45dc-9eea-2a7e5882fb83",
   "metadata": {
    "scrolled": true
   },
   "outputs": [
    {
     "data": {
      "text/html": [
       "<table class=\"dataframe\">\n",
       "<caption>A tibble: 8 × 7</caption>\n",
       "<thead>\n",
       "\t<tr><th scope=col>Team</th><th scope=col>W_md</th><th scope=col>W_mn</th><th scope=col>L_md</th><th scope=col>L_mn</th><th scope=col>D_md</th><th scope=col>D_mn</th></tr>\n",
       "\t<tr><th scope=col>&lt;chr&gt;</th><th scope=col>&lt;dbl&gt;</th><th scope=col>&lt;dbl&gt;</th><th scope=col>&lt;dbl&gt;</th><th scope=col>&lt;dbl&gt;</th><th scope=col>&lt;dbl&gt;</th><th scope=col>&lt;dbl&gt;</th></tr>\n",
       "</thead>\n",
       "<tbody>\n",
       "\t<tr><td>Eagles     </td><td>0.4500000</td><td>0.4366667</td><td>0.2500000</td><td>0.2794624</td><td>0.3166667</td><td>0.2838710</td></tr>\n",
       "\t<tr><td>Penguins   </td><td>0.4500000</td><td>0.4572043</td><td>0.3000000</td><td>0.3103226</td><td>0.1333333</td><td>0.2324731</td></tr>\n",
       "\t<tr><td>Hawks      </td><td>0.4166667</td><td>0.3876344</td><td>0.2333333</td><td>0.2461290</td><td>0.3200000</td><td>0.3662366</td></tr>\n",
       "\t<tr><td>Ducks      </td><td>0.3833333</td><td>0.3619355</td><td>0.3400000</td><td>0.3332258</td><td>0.2500000</td><td>0.3048387</td></tr>\n",
       "\t<tr><td>Owls       </td><td>0.3200000</td><td>0.3327957</td><td>0.3000000</td><td>0.3300000</td><td>0.3833333</td><td>0.3372043</td></tr>\n",
       "\t<tr><td>Ostriches  </td><td>0.3000000</td><td>0.3094624</td><td>0.4000000</td><td>0.3945161</td><td>0.2666667</td><td>0.2960215</td></tr>\n",
       "\t<tr><td>Storks     </td><td>0.3000000</td><td>0.2838710</td><td>0.2200000</td><td>0.2834409</td><td>0.4800000</td><td>0.4326882</td></tr>\n",
       "\t<tr><td>Kingfishers</td><td>0.2333333</td><td>0.2454839</td><td>0.3400000</td><td>0.3595699</td><td>0.4000000</td><td>0.3949462</td></tr>\n",
       "</tbody>\n",
       "</table>\n"
      ],
      "text/latex": [
       "A tibble: 8 × 7\n",
       "\\begin{tabular}{lllllll}\n",
       " Team & W\\_md & W\\_mn & L\\_md & L\\_mn & D\\_md & D\\_mn\\\\\n",
       " <chr> & <dbl> & <dbl> & <dbl> & <dbl> & <dbl> & <dbl>\\\\\n",
       "\\hline\n",
       "\t Eagles      & 0.4500000 & 0.4366667 & 0.2500000 & 0.2794624 & 0.3166667 & 0.2838710\\\\\n",
       "\t Penguins    & 0.4500000 & 0.4572043 & 0.3000000 & 0.3103226 & 0.1333333 & 0.2324731\\\\\n",
       "\t Hawks       & 0.4166667 & 0.3876344 & 0.2333333 & 0.2461290 & 0.3200000 & 0.3662366\\\\\n",
       "\t Ducks       & 0.3833333 & 0.3619355 & 0.3400000 & 0.3332258 & 0.2500000 & 0.3048387\\\\\n",
       "\t Owls        & 0.3200000 & 0.3327957 & 0.3000000 & 0.3300000 & 0.3833333 & 0.3372043\\\\\n",
       "\t Ostriches   & 0.3000000 & 0.3094624 & 0.4000000 & 0.3945161 & 0.2666667 & 0.2960215\\\\\n",
       "\t Storks      & 0.3000000 & 0.2838710 & 0.2200000 & 0.2834409 & 0.4800000 & 0.4326882\\\\\n",
       "\t Kingfishers & 0.2333333 & 0.2454839 & 0.3400000 & 0.3595699 & 0.4000000 & 0.3949462\\\\\n",
       "\\end{tabular}\n"
      ],
      "text/markdown": [
       "\n",
       "A tibble: 8 × 7\n",
       "\n",
       "| Team &lt;chr&gt; | W_md &lt;dbl&gt; | W_mn &lt;dbl&gt; | L_md &lt;dbl&gt; | L_mn &lt;dbl&gt; | D_md &lt;dbl&gt; | D_mn &lt;dbl&gt; |\n",
       "|---|---|---|---|---|---|---|\n",
       "| Eagles      | 0.4500000 | 0.4366667 | 0.2500000 | 0.2794624 | 0.3166667 | 0.2838710 |\n",
       "| Penguins    | 0.4500000 | 0.4572043 | 0.3000000 | 0.3103226 | 0.1333333 | 0.2324731 |\n",
       "| Hawks       | 0.4166667 | 0.3876344 | 0.2333333 | 0.2461290 | 0.3200000 | 0.3662366 |\n",
       "| Ducks       | 0.3833333 | 0.3619355 | 0.3400000 | 0.3332258 | 0.2500000 | 0.3048387 |\n",
       "| Owls        | 0.3200000 | 0.3327957 | 0.3000000 | 0.3300000 | 0.3833333 | 0.3372043 |\n",
       "| Ostriches   | 0.3000000 | 0.3094624 | 0.4000000 | 0.3945161 | 0.2666667 | 0.2960215 |\n",
       "| Storks      | 0.3000000 | 0.2838710 | 0.2200000 | 0.2834409 | 0.4800000 | 0.4326882 |\n",
       "| Kingfishers | 0.2333333 | 0.2454839 | 0.3400000 | 0.3595699 | 0.4000000 | 0.3949462 |\n",
       "\n"
      ],
      "text/plain": [
       "  Team        W_md      W_mn      L_md      L_mn      D_md      D_mn     \n",
       "1 Eagles      0.4500000 0.4366667 0.2500000 0.2794624 0.3166667 0.2838710\n",
       "2 Penguins    0.4500000 0.4572043 0.3000000 0.3103226 0.1333333 0.2324731\n",
       "3 Hawks       0.4166667 0.3876344 0.2333333 0.2461290 0.3200000 0.3662366\n",
       "4 Ducks       0.3833333 0.3619355 0.3400000 0.3332258 0.2500000 0.3048387\n",
       "5 Owls        0.3200000 0.3327957 0.3000000 0.3300000 0.3833333 0.3372043\n",
       "6 Ostriches   0.3000000 0.3094624 0.4000000 0.3945161 0.2666667 0.2960215\n",
       "7 Storks      0.3000000 0.2838710 0.2200000 0.2834409 0.4800000 0.4326882\n",
       "8 Kingfishers 0.2333333 0.2454839 0.3400000 0.3595699 0.4000000 0.3949462"
      ]
     },
     "metadata": {},
     "output_type": "display_data"
    }
   ],
   "source": [
    "team_statistics"
   ]
  },
  {
   "cell_type": "code",
   "execution_count": 23,
   "id": "b33d80ce-c59e-4a81-ac2a-40e52fca77bf",
   "metadata": {
    "scrolled": true
   },
   "outputs": [
    {
     "name": "stdout",
     "output_type": "stream",
     "text": [
      "   num_reds TheoreticalProbability EstimatedProbability\n",
      "1         1           3.686403e-03                0.259\n",
      "2         2           1.658881e-02                0.296\n",
      "3         3           4.739661e-02                0.184\n",
      "4         4           9.648595e-02                0.111\n",
      "5         5           1.488640e-01                0.035\n",
      "6         6           1.807635e-01                0.021\n",
      "7         7           1.770744e-01                0.003\n",
      "8         8           1.422919e-01                0.000\n",
      "9         9           9.486130e-02                0.000\n",
      "10       10           5.285129e-02                0.000\n",
      "11       11           2.470970e-02                0.000\n",
      "12       12           9.707380e-03                0.000\n",
      "13       13           3.200235e-03                0.000\n",
      "14       14           8.816975e-04                0.000\n",
      "15       15           2.015309e-04                0.000\n",
      "16       16           3.778704e-05                0.000\n",
      "17       17           5.715686e-06                0.000\n",
      "18       18           6.804388e-07                0.000\n",
      "19       19           6.139298e-08                0.000\n",
      "20       20           3.946691e-09                0.000\n",
      "21       21           1.610894e-10                0.000\n",
      "22       22           3.138106e-12                0.000\n"
     ]
    }
   ],
   "source": [
    "num_red_balls <- 3\n",
    "num_blue_balls <- 7\n",
    "total_draws <- 22\n",
    "\n",
    "prob_red_spheres <- function(z) {\n",
    "    total_balls <- num_red_balls + num_blue_balls\n",
    "    log_prob <- log(choose(total_draws, z)) +\n",
    "        z * log(num_red_balls / total_balls) +\n",
    "        (total_draws - z) * log(num_blue_balls / total_balls)\n",
    "    return(exp(log_prob))\n",
    "}\n",
    "\n",
    "num_trials <- 1000  \n",
    "set.seed(0) \n",
    "\n",
    "num_reds_in_simulation <- data.frame(trial = 1:num_trials) %>%\n",
    "  mutate(sample_balls = map(.x = trial, function(x) { sample(10, 22, replace = TRUE) })) %>%\n",
    "  mutate(num_reds = map_dbl(.x = sample_balls, function(.x) sum(.x == 3))) %>%\n",
    "  pull(num_reds)\n",
    "\n",
    "prob_by_num_reds <- data.frame(num_reds = seq(22)) %>%\n",
    "  mutate(TheoreticalProbability = prob_red_spheres(num_reds)) %>%\n",
    "  mutate(EstimatedProbability = map_dbl(.x = num_reds, function(.x) sum(num_reds_in_simulation == .x) / num_trials))\n",
    "\n",
    "print(prob_by_num_reds)"
   ]
  },
  {
   "cell_type": "code",
   "execution_count": 24,
   "id": "1ee1fc8a-b9aa-4eba-9dc8-08e4af51779f",
   "metadata": {},
   "outputs": [
    {
     "data": {
      "image/png": "[encoded data removed]",
      "text/plain": [
       "plot without title"
      ]
     },
     "metadata": {
      "image/png": {
       "height": 420,
       "width": 420
      }
     },
     "output_type": "display_data"
    }
   ],
   "source": [
    "prob_by_num_reds %>% \n",
    "    pivot_longer(cols=c(\"EstimatedProbability\",\"TheoreticalProbability\"), names_to=\"Type\",values_to=\"count\") %>% \n",
    "    ggplot(aes(num_reds,count)) +  \n",
    "    geom_line(aes(linetype=Type, color=Type)) + \n",
    "geom_point(aes(color=Type)) + \n",
    "    scale_linetype_manual(values = c(\"solid\", \"dashed\"))+ \n",
    "    theme_bw() + xlab(\"Number of reds\") + ylab(\"Probabilities\") "
   ]
  },
  {
   "cell_type": "code",
   "execution_count": null,
   "id": "5ad8b83b-0b74-46e2-af78-6aecf42a2a2a",
   "metadata": {},
   "outputs": [],
   "source": []
  }
 ],
 "metadata": {
  "kernelspec": {
   "display_name": "R",
   "language": "R",
   "name": "ir"
  },
  "language_info": {
   "codemirror_mode": "r",
   "file_extension": ".r",
   "mimetype": "text/x-r-source",
   "name": "R",
   "pygments_lexer": "r",
   "version": "4.4.1"
  }
 },
 "nbformat": 4,
 "nbformat_minor": 5
}
