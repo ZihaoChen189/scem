{
 "cells": [
  {
   "cell_type": "code",
   "execution_count": 1,
   "id": "16d5d088-4f0b-4ed3-abfe-bad7d579243f",
   "metadata": {
    "scrolled": true
   },
   "outputs": [
    {
     "name": "stderr",
     "output_type": "stream",
     "text": [
      "── \u001b[1mAttaching core tidyverse packages\u001b[22m ──────────────────────── tidyverse 2.0.0 ──\n",
      "\u001b[32m✔\u001b[39m \u001b[34mdplyr    \u001b[39m 1.1.4     \u001b[32m✔\u001b[39m \u001b[34mreadr    \u001b[39m 2.1.5\n",
      "\u001b[32m✔\u001b[39m \u001b[34mforcats  \u001b[39m 1.0.0     \u001b[32m✔\u001b[39m \u001b[34mstringr  \u001b[39m 1.5.1\n",
      "\u001b[32m✔\u001b[39m \u001b[34mggplot2  \u001b[39m 3.5.1     \u001b[32m✔\u001b[39m \u001b[34mtibble   \u001b[39m 3.2.1\n",
      "\u001b[32m✔\u001b[39m \u001b[34mlubridate\u001b[39m 1.9.3     \u001b[32m✔\u001b[39m \u001b[34mtidyr    \u001b[39m 1.3.1\n",
      "\u001b[32m✔\u001b[39m \u001b[34mpurrr    \u001b[39m 1.0.2     \n",
      "── \u001b[1mConflicts\u001b[22m ────────────────────────────────────────── tidyverse_conflicts() ──\n",
      "\u001b[31m✖\u001b[39m \u001b[34mdplyr\u001b[39m::\u001b[32mfilter()\u001b[39m masks \u001b[34mstats\u001b[39m::filter()\n",
      "\u001b[31m✖\u001b[39m \u001b[34mdplyr\u001b[39m::\u001b[32mlag()\u001b[39m    masks \u001b[34mstats\u001b[39m::lag()\n",
      "\u001b[36mℹ\u001b[39m Use the conflicted package (\u001b[3m\u001b[34m<http://conflicted.r-lib.org/>\u001b[39m\u001b[23m) to force all conflicts to become errors\n"
     ]
    }
   ],
   "source": [
    "library(palmerpenguins)\n",
    "library(tidyverse)"
   ]
  },
  {
   "cell_type": "code",
   "execution_count": 2,
   "id": "c35b41ad-f838-4370-a906-c32697bc0cb0",
   "metadata": {
    "scrolled": true
   },
   "outputs": [
    {
     "data": {
      "text/html": [
       "<table class=\"dataframe\">\n",
       "<caption>A tibble: 344 × 8</caption>\n",
       "<thead>\n",
       "\t<tr><th scope=col>species</th><th scope=col>island</th><th scope=col>bill_length_mm</th><th scope=col>bill_depth_mm</th><th scope=col>flipper_length_mm</th><th scope=col>body_mass_g</th><th scope=col>sex</th><th scope=col>year</th></tr>\n",
       "\t<tr><th scope=col>&lt;fct&gt;</th><th scope=col>&lt;fct&gt;</th><th scope=col>&lt;dbl&gt;</th><th scope=col>&lt;dbl&gt;</th><th scope=col>&lt;int&gt;</th><th scope=col>&lt;int&gt;</th><th scope=col>&lt;fct&gt;</th><th scope=col>&lt;int&gt;</th></tr>\n",
       "</thead>\n",
       "<tbody>\n",
       "\t<tr><td>Adelie</td><td>Torgersen</td><td>39.1</td><td>18.7</td><td>181</td><td>3750</td><td>male  </td><td>2007</td></tr>\n",
       "\t<tr><td>Adelie</td><td>Torgersen</td><td>39.5</td><td>17.4</td><td>186</td><td>3800</td><td>female</td><td>2007</td></tr>\n",
       "\t<tr><td>Adelie</td><td>Torgersen</td><td>40.3</td><td>18.0</td><td>195</td><td>3250</td><td>female</td><td>2007</td></tr>\n",
       "\t<tr><td>Adelie</td><td>Torgersen</td><td>  NA</td><td>  NA</td><td> NA</td><td>  NA</td><td>NA    </td><td>2007</td></tr>\n",
       "\t<tr><td>Adelie</td><td>Torgersen</td><td>36.7</td><td>19.3</td><td>193</td><td>3450</td><td>female</td><td>2007</td></tr>\n",
       "\t<tr><td>Adelie</td><td>Torgersen</td><td>39.3</td><td>20.6</td><td>190</td><td>3650</td><td>male  </td><td>2007</td></tr>\n",
       "\t<tr><td>Adelie</td><td>Torgersen</td><td>38.9</td><td>17.8</td><td>181</td><td>3625</td><td>female</td><td>2007</td></tr>\n",
       "\t<tr><td>Adelie</td><td>Torgersen</td><td>39.2</td><td>19.6</td><td>195</td><td>4675</td><td>male  </td><td>2007</td></tr>\n",
       "\t<tr><td>Adelie</td><td>Torgersen</td><td>34.1</td><td>18.1</td><td>193</td><td>3475</td><td>NA    </td><td>2007</td></tr>\n",
       "\t<tr><td>Adelie</td><td>Torgersen</td><td>42.0</td><td>20.2</td><td>190</td><td>4250</td><td>NA    </td><td>2007</td></tr>\n",
       "\t<tr><td>Adelie</td><td>Torgersen</td><td>37.8</td><td>17.1</td><td>186</td><td>3300</td><td>NA    </td><td>2007</td></tr>\n",
       "\t<tr><td>Adelie</td><td>Torgersen</td><td>37.8</td><td>17.3</td><td>180</td><td>3700</td><td>NA    </td><td>2007</td></tr>\n",
       "\t<tr><td>Adelie</td><td>Torgersen</td><td>41.1</td><td>17.6</td><td>182</td><td>3200</td><td>female</td><td>2007</td></tr>\n",
       "\t<tr><td>Adelie</td><td>Torgersen</td><td>38.6</td><td>21.2</td><td>191</td><td>3800</td><td>male  </td><td>2007</td></tr>\n",
       "\t<tr><td>Adelie</td><td>Torgersen</td><td>34.6</td><td>21.1</td><td>198</td><td>4400</td><td>male  </td><td>2007</td></tr>\n",
       "\t<tr><td>Adelie</td><td>Torgersen</td><td>36.6</td><td>17.8</td><td>185</td><td>3700</td><td>female</td><td>2007</td></tr>\n",
       "\t<tr><td>Adelie</td><td>Torgersen</td><td>38.7</td><td>19.0</td><td>195</td><td>3450</td><td>female</td><td>2007</td></tr>\n",
       "\t<tr><td>Adelie</td><td>Torgersen</td><td>42.5</td><td>20.7</td><td>197</td><td>4500</td><td>male  </td><td>2007</td></tr>\n",
       "\t<tr><td>Adelie</td><td>Torgersen</td><td>34.4</td><td>18.4</td><td>184</td><td>3325</td><td>female</td><td>2007</td></tr>\n",
       "\t<tr><td>Adelie</td><td>Torgersen</td><td>46.0</td><td>21.5</td><td>194</td><td>4200</td><td>male  </td><td>2007</td></tr>\n",
       "\t<tr><td>Adelie</td><td>Biscoe   </td><td>37.8</td><td>18.3</td><td>174</td><td>3400</td><td>female</td><td>2007</td></tr>\n",
       "\t<tr><td>Adelie</td><td>Biscoe   </td><td>37.7</td><td>18.7</td><td>180</td><td>3600</td><td>male  </td><td>2007</td></tr>\n",
       "\t<tr><td>Adelie</td><td>Biscoe   </td><td>35.9</td><td>19.2</td><td>189</td><td>3800</td><td>female</td><td>2007</td></tr>\n",
       "\t<tr><td>Adelie</td><td>Biscoe   </td><td>38.2</td><td>18.1</td><td>185</td><td>3950</td><td>male  </td><td>2007</td></tr>\n",
       "\t<tr><td>Adelie</td><td>Biscoe   </td><td>38.8</td><td>17.2</td><td>180</td><td>3800</td><td>male  </td><td>2007</td></tr>\n",
       "\t<tr><td>Adelie</td><td>Biscoe   </td><td>35.3</td><td>18.9</td><td>187</td><td>3800</td><td>female</td><td>2007</td></tr>\n",
       "\t<tr><td>Adelie</td><td>Biscoe   </td><td>40.6</td><td>18.6</td><td>183</td><td>3550</td><td>male  </td><td>2007</td></tr>\n",
       "\t<tr><td>Adelie</td><td>Biscoe   </td><td>40.5</td><td>17.9</td><td>187</td><td>3200</td><td>female</td><td>2007</td></tr>\n",
       "\t<tr><td>Adelie</td><td>Biscoe   </td><td>37.9</td><td>18.6</td><td>172</td><td>3150</td><td>female</td><td>2007</td></tr>\n",
       "\t<tr><td>Adelie</td><td>Biscoe   </td><td>40.5</td><td>18.9</td><td>180</td><td>3950</td><td>male  </td><td>2007</td></tr>\n",
       "\t<tr><td>⋮</td><td>⋮</td><td>⋮</td><td>⋮</td><td>⋮</td><td>⋮</td><td>⋮</td><td>⋮</td></tr>\n",
       "\t<tr><td>Chinstrap</td><td>Dream</td><td>46.9</td><td>16.6</td><td>192</td><td>2700</td><td>female</td><td>2008</td></tr>\n",
       "\t<tr><td>Chinstrap</td><td>Dream</td><td>53.5</td><td>19.9</td><td>205</td><td>4500</td><td>male  </td><td>2008</td></tr>\n",
       "\t<tr><td>Chinstrap</td><td>Dream</td><td>49.0</td><td>19.5</td><td>210</td><td>3950</td><td>male  </td><td>2008</td></tr>\n",
       "\t<tr><td>Chinstrap</td><td>Dream</td><td>46.2</td><td>17.5</td><td>187</td><td>3650</td><td>female</td><td>2008</td></tr>\n",
       "\t<tr><td>Chinstrap</td><td>Dream</td><td>50.9</td><td>19.1</td><td>196</td><td>3550</td><td>male  </td><td>2008</td></tr>\n",
       "\t<tr><td>Chinstrap</td><td>Dream</td><td>45.5</td><td>17.0</td><td>196</td><td>3500</td><td>female</td><td>2008</td></tr>\n",
       "\t<tr><td>Chinstrap</td><td>Dream</td><td>50.9</td><td>17.9</td><td>196</td><td>3675</td><td>female</td><td>2009</td></tr>\n",
       "\t<tr><td>Chinstrap</td><td>Dream</td><td>50.8</td><td>18.5</td><td>201</td><td>4450</td><td>male  </td><td>2009</td></tr>\n",
       "\t<tr><td>Chinstrap</td><td>Dream</td><td>50.1</td><td>17.9</td><td>190</td><td>3400</td><td>female</td><td>2009</td></tr>\n",
       "\t<tr><td>Chinstrap</td><td>Dream</td><td>49.0</td><td>19.6</td><td>212</td><td>4300</td><td>male  </td><td>2009</td></tr>\n",
       "\t<tr><td>Chinstrap</td><td>Dream</td><td>51.5</td><td>18.7</td><td>187</td><td>3250</td><td>male  </td><td>2009</td></tr>\n",
       "\t<tr><td>Chinstrap</td><td>Dream</td><td>49.8</td><td>17.3</td><td>198</td><td>3675</td><td>female</td><td>2009</td></tr>\n",
       "\t<tr><td>Chinstrap</td><td>Dream</td><td>48.1</td><td>16.4</td><td>199</td><td>3325</td><td>female</td><td>2009</td></tr>\n",
       "\t<tr><td>Chinstrap</td><td>Dream</td><td>51.4</td><td>19.0</td><td>201</td><td>3950</td><td>male  </td><td>2009</td></tr>\n",
       "\t<tr><td>Chinstrap</td><td>Dream</td><td>45.7</td><td>17.3</td><td>193</td><td>3600</td><td>female</td><td>2009</td></tr>\n",
       "\t<tr><td>Chinstrap</td><td>Dream</td><td>50.7</td><td>19.7</td><td>203</td><td>4050</td><td>male  </td><td>2009</td></tr>\n",
       "\t<tr><td>Chinstrap</td><td>Dream</td><td>42.5</td><td>17.3</td><td>187</td><td>3350</td><td>female</td><td>2009</td></tr>\n",
       "\t<tr><td>Chinstrap</td><td>Dream</td><td>52.2</td><td>18.8</td><td>197</td><td>3450</td><td>male  </td><td>2009</td></tr>\n",
       "\t<tr><td>Chinstrap</td><td>Dream</td><td>45.2</td><td>16.6</td><td>191</td><td>3250</td><td>female</td><td>2009</td></tr>\n",
       "\t<tr><td>Chinstrap</td><td>Dream</td><td>49.3</td><td>19.9</td><td>203</td><td>4050</td><td>male  </td><td>2009</td></tr>\n",
       "\t<tr><td>Chinstrap</td><td>Dream</td><td>50.2</td><td>18.8</td><td>202</td><td>3800</td><td>male  </td><td>2009</td></tr>\n",
       "\t<tr><td>Chinstrap</td><td>Dream</td><td>45.6</td><td>19.4</td><td>194</td><td>3525</td><td>female</td><td>2009</td></tr>\n",
       "\t<tr><td>Chinstrap</td><td>Dream</td><td>51.9</td><td>19.5</td><td>206</td><td>3950</td><td>male  </td><td>2009</td></tr>\n",
       "\t<tr><td>Chinstrap</td><td>Dream</td><td>46.8</td><td>16.5</td><td>189</td><td>3650</td><td>female</td><td>2009</td></tr>\n",
       "\t<tr><td>Chinstrap</td><td>Dream</td><td>45.7</td><td>17.0</td><td>195</td><td>3650</td><td>female</td><td>2009</td></tr>\n",
       "\t<tr><td>Chinstrap</td><td>Dream</td><td>55.8</td><td>19.8</td><td>207</td><td>4000</td><td>male  </td><td>2009</td></tr>\n",
       "\t<tr><td>Chinstrap</td><td>Dream</td><td>43.5</td><td>18.1</td><td>202</td><td>3400</td><td>female</td><td>2009</td></tr>\n",
       "\t<tr><td>Chinstrap</td><td>Dream</td><td>49.6</td><td>18.2</td><td>193</td><td>3775</td><td>male  </td><td>2009</td></tr>\n",
       "\t<tr><td>Chinstrap</td><td>Dream</td><td>50.8</td><td>19.0</td><td>210</td><td>4100</td><td>male  </td><td>2009</td></tr>\n",
       "\t<tr><td>Chinstrap</td><td>Dream</td><td>50.2</td><td>18.7</td><td>198</td><td>3775</td><td>female</td><td>2009</td></tr>\n",
       "</tbody>\n",
       "</table>\n"
      ],
      "text/latex": [
       "A tibble: 344 × 8\n",
       "\\begin{tabular}{llllllll}\n",
       " species & island & bill\\_length\\_mm & bill\\_depth\\_mm & flipper\\_length\\_mm & body\\_mass\\_g & sex & year\\\\\n",
       " <fct> & <fct> & <dbl> & <dbl> & <int> & <int> & <fct> & <int>\\\\\n",
       "\\hline\n",
       "\t Adelie & Torgersen & 39.1 & 18.7 & 181 & 3750 & male   & 2007\\\\\n",
       "\t Adelie & Torgersen & 39.5 & 17.4 & 186 & 3800 & female & 2007\\\\\n",
       "\t Adelie & Torgersen & 40.3 & 18.0 & 195 & 3250 & female & 2007\\\\\n",
       "\t Adelie & Torgersen &   NA &   NA &  NA &   NA & NA     & 2007\\\\\n",
       "\t Adelie & Torgersen & 36.7 & 19.3 & 193 & 3450 & female & 2007\\\\\n",
       "\t Adelie & Torgersen & 39.3 & 20.6 & 190 & 3650 & male   & 2007\\\\\n",
       "\t Adelie & Torgersen & 38.9 & 17.8 & 181 & 3625 & female & 2007\\\\\n",
       "\t Adelie & Torgersen & 39.2 & 19.6 & 195 & 4675 & male   & 2007\\\\\n",
       "\t Adelie & Torgersen & 34.1 & 18.1 & 193 & 3475 & NA     & 2007\\\\\n",
       "\t Adelie & Torgersen & 42.0 & 20.2 & 190 & 4250 & NA     & 2007\\\\\n",
       "\t Adelie & Torgersen & 37.8 & 17.1 & 186 & 3300 & NA     & 2007\\\\\n",
       "\t Adelie & Torgersen & 37.8 & 17.3 & 180 & 3700 & NA     & 2007\\\\\n",
       "\t Adelie & Torgersen & 41.1 & 17.6 & 182 & 3200 & female & 2007\\\\\n",
       "\t Adelie & Torgersen & 38.6 & 21.2 & 191 & 3800 & male   & 2007\\\\\n",
       "\t Adelie & Torgersen & 34.6 & 21.1 & 198 & 4400 & male   & 2007\\\\\n",
       "\t Adelie & Torgersen & 36.6 & 17.8 & 185 & 3700 & female & 2007\\\\\n",
       "\t Adelie & Torgersen & 38.7 & 19.0 & 195 & 3450 & female & 2007\\\\\n",
       "\t Adelie & Torgersen & 42.5 & 20.7 & 197 & 4500 & male   & 2007\\\\\n",
       "\t Adelie & Torgersen & 34.4 & 18.4 & 184 & 3325 & female & 2007\\\\\n",
       "\t Adelie & Torgersen & 46.0 & 21.5 & 194 & 4200 & male   & 2007\\\\\n",
       "\t Adelie & Biscoe    & 37.8 & 18.3 & 174 & 3400 & female & 2007\\\\\n",
       "\t Adelie & Biscoe    & 37.7 & 18.7 & 180 & 3600 & male   & 2007\\\\\n",
       "\t Adelie & Biscoe    & 35.9 & 19.2 & 189 & 3800 & female & 2007\\\\\n",
       "\t Adelie & Biscoe    & 38.2 & 18.1 & 185 & 3950 & male   & 2007\\\\\n",
       "\t Adelie & Biscoe    & 38.8 & 17.2 & 180 & 3800 & male   & 2007\\\\\n",
       "\t Adelie & Biscoe    & 35.3 & 18.9 & 187 & 3800 & female & 2007\\\\\n",
       "\t Adelie & Biscoe    & 40.6 & 18.6 & 183 & 3550 & male   & 2007\\\\\n",
       "\t Adelie & Biscoe    & 40.5 & 17.9 & 187 & 3200 & female & 2007\\\\\n",
       "\t Adelie & Biscoe    & 37.9 & 18.6 & 172 & 3150 & female & 2007\\\\\n",
       "\t Adelie & Biscoe    & 40.5 & 18.9 & 180 & 3950 & male   & 2007\\\\\n",
       "\t ⋮ & ⋮ & ⋮ & ⋮ & ⋮ & ⋮ & ⋮ & ⋮\\\\\n",
       "\t Chinstrap & Dream & 46.9 & 16.6 & 192 & 2700 & female & 2008\\\\\n",
       "\t Chinstrap & Dream & 53.5 & 19.9 & 205 & 4500 & male   & 2008\\\\\n",
       "\t Chinstrap & Dream & 49.0 & 19.5 & 210 & 3950 & male   & 2008\\\\\n",
       "\t Chinstrap & Dream & 46.2 & 17.5 & 187 & 3650 & female & 2008\\\\\n",
       "\t Chinstrap & Dream & 50.9 & 19.1 & 196 & 3550 & male   & 2008\\\\\n",
       "\t Chinstrap & Dream & 45.5 & 17.0 & 196 & 3500 & female & 2008\\\\\n",
       "\t Chinstrap & Dream & 50.9 & 17.9 & 196 & 3675 & female & 2009\\\\\n",
       "\t Chinstrap & Dream & 50.8 & 18.5 & 201 & 4450 & male   & 2009\\\\\n",
       "\t Chinstrap & Dream & 50.1 & 17.9 & 190 & 3400 & female & 2009\\\\\n",
       "\t Chinstrap & Dream & 49.0 & 19.6 & 212 & 4300 & male   & 2009\\\\\n",
       "\t Chinstrap & Dream & 51.5 & 18.7 & 187 & 3250 & male   & 2009\\\\\n",
       "\t Chinstrap & Dream & 49.8 & 17.3 & 198 & 3675 & female & 2009\\\\\n",
       "\t Chinstrap & Dream & 48.1 & 16.4 & 199 & 3325 & female & 2009\\\\\n",
       "\t Chinstrap & Dream & 51.4 & 19.0 & 201 & 3950 & male   & 2009\\\\\n",
       "\t Chinstrap & Dream & 45.7 & 17.3 & 193 & 3600 & female & 2009\\\\\n",
       "\t Chinstrap & Dream & 50.7 & 19.7 & 203 & 4050 & male   & 2009\\\\\n",
       "\t Chinstrap & Dream & 42.5 & 17.3 & 187 & 3350 & female & 2009\\\\\n",
       "\t Chinstrap & Dream & 52.2 & 18.8 & 197 & 3450 & male   & 2009\\\\\n",
       "\t Chinstrap & Dream & 45.2 & 16.6 & 191 & 3250 & female & 2009\\\\\n",
       "\t Chinstrap & Dream & 49.3 & 19.9 & 203 & 4050 & male   & 2009\\\\\n",
       "\t Chinstrap & Dream & 50.2 & 18.8 & 202 & 3800 & male   & 2009\\\\\n",
       "\t Chinstrap & Dream & 45.6 & 19.4 & 194 & 3525 & female & 2009\\\\\n",
       "\t Chinstrap & Dream & 51.9 & 19.5 & 206 & 3950 & male   & 2009\\\\\n",
       "\t Chinstrap & Dream & 46.8 & 16.5 & 189 & 3650 & female & 2009\\\\\n",
       "\t Chinstrap & Dream & 45.7 & 17.0 & 195 & 3650 & female & 2009\\\\\n",
       "\t Chinstrap & Dream & 55.8 & 19.8 & 207 & 4000 & male   & 2009\\\\\n",
       "\t Chinstrap & Dream & 43.5 & 18.1 & 202 & 3400 & female & 2009\\\\\n",
       "\t Chinstrap & Dream & 49.6 & 18.2 & 193 & 3775 & male   & 2009\\\\\n",
       "\t Chinstrap & Dream & 50.8 & 19.0 & 210 & 4100 & male   & 2009\\\\\n",
       "\t Chinstrap & Dream & 50.2 & 18.7 & 198 & 3775 & female & 2009\\\\\n",
       "\\end{tabular}\n"
      ],
      "text/markdown": [
       "\n",
       "A tibble: 344 × 8\n",
       "\n",
       "| species &lt;fct&gt; | island &lt;fct&gt; | bill_length_mm &lt;dbl&gt; | bill_depth_mm &lt;dbl&gt; | flipper_length_mm &lt;int&gt; | body_mass_g &lt;int&gt; | sex &lt;fct&gt; | year &lt;int&gt; |\n",
       "|---|---|---|---|---|---|---|---|\n",
       "| Adelie | Torgersen | 39.1 | 18.7 | 181 | 3750 | male   | 2007 |\n",
       "| Adelie | Torgersen | 39.5 | 17.4 | 186 | 3800 | female | 2007 |\n",
       "| Adelie | Torgersen | 40.3 | 18.0 | 195 | 3250 | female | 2007 |\n",
       "| Adelie | Torgersen |   NA |   NA |  NA |   NA | NA     | 2007 |\n",
       "| Adelie | Torgersen | 36.7 | 19.3 | 193 | 3450 | female | 2007 |\n",
       "| Adelie | Torgersen | 39.3 | 20.6 | 190 | 3650 | male   | 2007 |\n",
       "| Adelie | Torgersen | 38.9 | 17.8 | 181 | 3625 | female | 2007 |\n",
       "| Adelie | Torgersen | 39.2 | 19.6 | 195 | 4675 | male   | 2007 |\n",
       "| Adelie | Torgersen | 34.1 | 18.1 | 193 | 3475 | NA     | 2007 |\n",
       "| Adelie | Torgersen | 42.0 | 20.2 | 190 | 4250 | NA     | 2007 |\n",
       "| Adelie | Torgersen | 37.8 | 17.1 | 186 | 3300 | NA     | 2007 |\n",
       "| Adelie | Torgersen | 37.8 | 17.3 | 180 | 3700 | NA     | 2007 |\n",
       "| Adelie | Torgersen | 41.1 | 17.6 | 182 | 3200 | female | 2007 |\n",
       "| Adelie | Torgersen | 38.6 | 21.2 | 191 | 3800 | male   | 2007 |\n",
       "| Adelie | Torgersen | 34.6 | 21.1 | 198 | 4400 | male   | 2007 |\n",
       "| Adelie | Torgersen | 36.6 | 17.8 | 185 | 3700 | female | 2007 |\n",
       "| Adelie | Torgersen | 38.7 | 19.0 | 195 | 3450 | female | 2007 |\n",
       "| Adelie | Torgersen | 42.5 | 20.7 | 197 | 4500 | male   | 2007 |\n",
       "| Adelie | Torgersen | 34.4 | 18.4 | 184 | 3325 | female | 2007 |\n",
       "| Adelie | Torgersen | 46.0 | 21.5 | 194 | 4200 | male   | 2007 |\n",
       "| Adelie | Biscoe    | 37.8 | 18.3 | 174 | 3400 | female | 2007 |\n",
       "| Adelie | Biscoe    | 37.7 | 18.7 | 180 | 3600 | male   | 2007 |\n",
       "| Adelie | Biscoe    | 35.9 | 19.2 | 189 | 3800 | female | 2007 |\n",
       "| Adelie | Biscoe    | 38.2 | 18.1 | 185 | 3950 | male   | 2007 |\n",
       "| Adelie | Biscoe    | 38.8 | 17.2 | 180 | 3800 | male   | 2007 |\n",
       "| Adelie | Biscoe    | 35.3 | 18.9 | 187 | 3800 | female | 2007 |\n",
       "| Adelie | Biscoe    | 40.6 | 18.6 | 183 | 3550 | male   | 2007 |\n",
       "| Adelie | Biscoe    | 40.5 | 17.9 | 187 | 3200 | female | 2007 |\n",
       "| Adelie | Biscoe    | 37.9 | 18.6 | 172 | 3150 | female | 2007 |\n",
       "| Adelie | Biscoe    | 40.5 | 18.9 | 180 | 3950 | male   | 2007 |\n",
       "| ⋮ | ⋮ | ⋮ | ⋮ | ⋮ | ⋮ | ⋮ | ⋮ |\n",
       "| Chinstrap | Dream | 46.9 | 16.6 | 192 | 2700 | female | 2008 |\n",
       "| Chinstrap | Dream | 53.5 | 19.9 | 205 | 4500 | male   | 2008 |\n",
       "| Chinstrap | Dream | 49.0 | 19.5 | 210 | 3950 | male   | 2008 |\n",
       "| Chinstrap | Dream | 46.2 | 17.5 | 187 | 3650 | female | 2008 |\n",
       "| Chinstrap | Dream | 50.9 | 19.1 | 196 | 3550 | male   | 2008 |\n",
       "| Chinstrap | Dream | 45.5 | 17.0 | 196 | 3500 | female | 2008 |\n",
       "| Chinstrap | Dream | 50.9 | 17.9 | 196 | 3675 | female | 2009 |\n",
       "| Chinstrap | Dream | 50.8 | 18.5 | 201 | 4450 | male   | 2009 |\n",
       "| Chinstrap | Dream | 50.1 | 17.9 | 190 | 3400 | female | 2009 |\n",
       "| Chinstrap | Dream | 49.0 | 19.6 | 212 | 4300 | male   | 2009 |\n",
       "| Chinstrap | Dream | 51.5 | 18.7 | 187 | 3250 | male   | 2009 |\n",
       "| Chinstrap | Dream | 49.8 | 17.3 | 198 | 3675 | female | 2009 |\n",
       "| Chinstrap | Dream | 48.1 | 16.4 | 199 | 3325 | female | 2009 |\n",
       "| Chinstrap | Dream | 51.4 | 19.0 | 201 | 3950 | male   | 2009 |\n",
       "| Chinstrap | Dream | 45.7 | 17.3 | 193 | 3600 | female | 2009 |\n",
       "| Chinstrap | Dream | 50.7 | 19.7 | 203 | 4050 | male   | 2009 |\n",
       "| Chinstrap | Dream | 42.5 | 17.3 | 187 | 3350 | female | 2009 |\n",
       "| Chinstrap | Dream | 52.2 | 18.8 | 197 | 3450 | male   | 2009 |\n",
       "| Chinstrap | Dream | 45.2 | 16.6 | 191 | 3250 | female | 2009 |\n",
       "| Chinstrap | Dream | 49.3 | 19.9 | 203 | 4050 | male   | 2009 |\n",
       "| Chinstrap | Dream | 50.2 | 18.8 | 202 | 3800 | male   | 2009 |\n",
       "| Chinstrap | Dream | 45.6 | 19.4 | 194 | 3525 | female | 2009 |\n",
       "| Chinstrap | Dream | 51.9 | 19.5 | 206 | 3950 | male   | 2009 |\n",
       "| Chinstrap | Dream | 46.8 | 16.5 | 189 | 3650 | female | 2009 |\n",
       "| Chinstrap | Dream | 45.7 | 17.0 | 195 | 3650 | female | 2009 |\n",
       "| Chinstrap | Dream | 55.8 | 19.8 | 207 | 4000 | male   | 2009 |\n",
       "| Chinstrap | Dream | 43.5 | 18.1 | 202 | 3400 | female | 2009 |\n",
       "| Chinstrap | Dream | 49.6 | 18.2 | 193 | 3775 | male   | 2009 |\n",
       "| Chinstrap | Dream | 50.8 | 19.0 | 210 | 4100 | male   | 2009 |\n",
       "| Chinstrap | Dream | 50.2 | 18.7 | 198 | 3775 | female | 2009 |\n",
       "\n"
      ],
      "text/plain": [
       "    species   island    bill_length_mm bill_depth_mm flipper_length_mm\n",
       "1   Adelie    Torgersen 39.1           18.7          181              \n",
       "2   Adelie    Torgersen 39.5           17.4          186              \n",
       "3   Adelie    Torgersen 40.3           18.0          195              \n",
       "4   Adelie    Torgersen   NA             NA           NA              \n",
       "5   Adelie    Torgersen 36.7           19.3          193              \n",
       "6   Adelie    Torgersen 39.3           20.6          190              \n",
       "7   Adelie    Torgersen 38.9           17.8          181              \n",
       "8   Adelie    Torgersen 39.2           19.6          195              \n",
       "9   Adelie    Torgersen 34.1           18.1          193              \n",
       "10  Adelie    Torgersen 42.0           20.2          190              \n",
       "11  Adelie    Torgersen 37.8           17.1          186              \n",
       "12  Adelie    Torgersen 37.8           17.3          180              \n",
       "13  Adelie    Torgersen 41.1           17.6          182              \n",
       "14  Adelie    Torgersen 38.6           21.2          191              \n",
       "15  Adelie    Torgersen 34.6           21.1          198              \n",
       "16  Adelie    Torgersen 36.6           17.8          185              \n",
       "17  Adelie    Torgersen 38.7           19.0          195              \n",
       "18  Adelie    Torgersen 42.5           20.7          197              \n",
       "19  Adelie    Torgersen 34.4           18.4          184              \n",
       "20  Adelie    Torgersen 46.0           21.5          194              \n",
       "21  Adelie    Biscoe    37.8           18.3          174              \n",
       "22  Adelie    Biscoe    37.7           18.7          180              \n",
       "23  Adelie    Biscoe    35.9           19.2          189              \n",
       "24  Adelie    Biscoe    38.2           18.1          185              \n",
       "25  Adelie    Biscoe    38.8           17.2          180              \n",
       "26  Adelie    Biscoe    35.3           18.9          187              \n",
       "27  Adelie    Biscoe    40.6           18.6          183              \n",
       "28  Adelie    Biscoe    40.5           17.9          187              \n",
       "29  Adelie    Biscoe    37.9           18.6          172              \n",
       "30  Adelie    Biscoe    40.5           18.9          180              \n",
       "⋮   ⋮         ⋮         ⋮              ⋮             ⋮                \n",
       "315 Chinstrap Dream     46.9           16.6          192              \n",
       "316 Chinstrap Dream     53.5           19.9          205              \n",
       "317 Chinstrap Dream     49.0           19.5          210              \n",
       "318 Chinstrap Dream     46.2           17.5          187              \n",
       "319 Chinstrap Dream     50.9           19.1          196              \n",
       "320 Chinstrap Dream     45.5           17.0          196              \n",
       "321 Chinstrap Dream     50.9           17.9          196              \n",
       "322 Chinstrap Dream     50.8           18.5          201              \n",
       "323 Chinstrap Dream     50.1           17.9          190              \n",
       "324 Chinstrap Dream     49.0           19.6          212              \n",
       "325 Chinstrap Dream     51.5           18.7          187              \n",
       "326 Chinstrap Dream     49.8           17.3          198              \n",
       "327 Chinstrap Dream     48.1           16.4          199              \n",
       "328 Chinstrap Dream     51.4           19.0          201              \n",
       "329 Chinstrap Dream     45.7           17.3          193              \n",
       "330 Chinstrap Dream     50.7           19.7          203              \n",
       "331 Chinstrap Dream     42.5           17.3          187              \n",
       "332 Chinstrap Dream     52.2           18.8          197              \n",
       "333 Chinstrap Dream     45.2           16.6          191              \n",
       "334 Chinstrap Dream     49.3           19.9          203              \n",
       "335 Chinstrap Dream     50.2           18.8          202              \n",
       "336 Chinstrap Dream     45.6           19.4          194              \n",
       "337 Chinstrap Dream     51.9           19.5          206              \n",
       "338 Chinstrap Dream     46.8           16.5          189              \n",
       "339 Chinstrap Dream     45.7           17.0          195              \n",
       "340 Chinstrap Dream     55.8           19.8          207              \n",
       "341 Chinstrap Dream     43.5           18.1          202              \n",
       "342 Chinstrap Dream     49.6           18.2          193              \n",
       "343 Chinstrap Dream     50.8           19.0          210              \n",
       "344 Chinstrap Dream     50.2           18.7          198              \n",
       "    body_mass_g sex    year\n",
       "1   3750        male   2007\n",
       "2   3800        female 2007\n",
       "3   3250        female 2007\n",
       "4     NA        NA     2007\n",
       "5   3450        female 2007\n",
       "6   3650        male   2007\n",
       "7   3625        female 2007\n",
       "8   4675        male   2007\n",
       "9   3475        NA     2007\n",
       "10  4250        NA     2007\n",
       "11  3300        NA     2007\n",
       "12  3700        NA     2007\n",
       "13  3200        female 2007\n",
       "14  3800        male   2007\n",
       "15  4400        male   2007\n",
       "16  3700        female 2007\n",
       "17  3450        female 2007\n",
       "18  4500        male   2007\n",
       "19  3325        female 2007\n",
       "20  4200        male   2007\n",
       "21  3400        female 2007\n",
       "22  3600        male   2007\n",
       "23  3800        female 2007\n",
       "24  3950        male   2007\n",
       "25  3800        male   2007\n",
       "26  3800        female 2007\n",
       "27  3550        male   2007\n",
       "28  3200        female 2007\n",
       "29  3150        female 2007\n",
       "30  3950        male   2007\n",
       "⋮   ⋮           ⋮      ⋮   \n",
       "315 2700        female 2008\n",
       "316 4500        male   2008\n",
       "317 3950        male   2008\n",
       "318 3650        female 2008\n",
       "319 3550        male   2008\n",
       "320 3500        female 2008\n",
       "321 3675        female 2009\n",
       "322 4450        male   2009\n",
       "323 3400        female 2009\n",
       "324 4300        male   2009\n",
       "325 3250        male   2009\n",
       "326 3675        female 2009\n",
       "327 3325        female 2009\n",
       "328 3950        male   2009\n",
       "329 3600        female 2009\n",
       "330 4050        male   2009\n",
       "331 3350        female 2009\n",
       "332 3450        male   2009\n",
       "333 3250        female 2009\n",
       "334 4050        male   2009\n",
       "335 3800        male   2009\n",
       "336 3525        female 2009\n",
       "337 3950        male   2009\n",
       "338 3650        female 2009\n",
       "339 3650        female 2009\n",
       "340 4000        male   2009\n",
       "341 3400        female 2009\n",
       "342 3775        male   2009\n",
       "343 4100        male   2009\n",
       "344 3775        female 2009"
      ]
     },
     "metadata": {},
     "output_type": "display_data"
    }
   ],
   "source": [
    "penguins"
   ]
  },
  {
   "cell_type": "code",
   "execution_count": 3,
   "id": "360beb02-2168-47e8-b322-42487a2275fa",
   "metadata": {
    "scrolled": true
   },
   "outputs": [
    {
     "name": "stdout",
     "output_type": "stream",
     "text": [
      "\u001b[90m# A tibble: 3 × 4\u001b[39m\n",
      "  species    bill flipper weight\n",
      "  \u001b[3m\u001b[90m<fct>\u001b[39m\u001b[23m     \u001b[3m\u001b[90m<dbl>\u001b[39m\u001b[23m   \u001b[3m\u001b[90m<dbl>\u001b[39m\u001b[23m  \u001b[3m\u001b[90m<dbl>\u001b[39m\u001b[23m\n",
      "\u001b[90m1\u001b[39m Adelie     38.8    190   \u001b[4m3\u001b[24m701.\n",
      "\u001b[90m2\u001b[39m Chinstrap  48.8    196.  \u001b[4m3\u001b[24m733.\n",
      "\u001b[90m3\u001b[39m Gentoo     47.5    217.  \u001b[4m5\u001b[24m076 \n"
     ]
    }
   ],
   "source": [
    "penguins_summary <-  penguins %>%\n",
    "    group_by(species) %>%  # 先对企鹅数据进行分组\n",
    "    # summarise: 为分组后的数据进行汇总\n",
    "    # na.rm=TRUE: 忽略缺失值\n",
    "    # round: 将平均值四舍五入到小数点后1位\n",
    "    summarise(bill=round(mean(bill_length_mm, na.rm=TRUE),digits=1), flipper=round(mean(flipper_length_mm, na.rm=TRUE),digits=1), weight=round(mean(body_mass_g, na.rm=TRUE),digits=1))\n",
    "print(penguins_summary)"
   ]
  },
  {
   "cell_type": "code",
   "execution_count": 4,
   "id": "bc29ebf7-32dd-4939-a97d-5917945175c5",
   "metadata": {
    "scrolled": true
   },
   "outputs": [
    {
     "name": "stdout",
     "output_type": "stream",
     "text": [
      "\u001b[90m# A tibble: 9 × 3\u001b[39m\n",
      "  species   property  value\n",
      "  \u001b[3m\u001b[90m<fct>\u001b[39m\u001b[23m     \u001b[3m\u001b[90m<chr>\u001b[39m\u001b[23m     \u001b[3m\u001b[90m<dbl>\u001b[39m\u001b[23m\n",
      "\u001b[90m1\u001b[39m Adelie    bill       38.8\n",
      "\u001b[90m2\u001b[39m Adelie    flipper   190  \n",
      "\u001b[90m3\u001b[39m Adelie    weight   \u001b[4m3\u001b[24m701. \n",
      "\u001b[90m4\u001b[39m Chinstrap bill       48.8\n",
      "\u001b[90m5\u001b[39m Chinstrap flipper   196. \n",
      "\u001b[90m6\u001b[39m Chinstrap weight   \u001b[4m3\u001b[24m733. \n",
      "\u001b[90m7\u001b[39m Gentoo    bill       47.5\n",
      "\u001b[90m8\u001b[39m Gentoo    flipper   217. \n",
      "\u001b[90m9\u001b[39m Gentoo    weight   \u001b[4m5\u001b[24m076  \n"
     ]
    }
   ],
   "source": [
    "penguins_summary_narrow <- penguins_summary %>%  # 将原本的 宽格式数据 转换为 窄格式数据\n",
    "    # c(bill, flipper, weight): 选取需要转换的列\n",
    "    # names_to='property': 将列名(bill, flipper, weight)放入新列 property 中\n",
    "    # values_to='value': 将原来每一列对应的值放入新列 value 中\n",
    "    pivot_longer(c(bill, flipper, weight), names_to='property', values_to='value')  # anti-intuitive\n",
    "print(penguins_summary_narrow)"
   ]
  },
  {
   "cell_type": "code",
   "execution_count": 5,
   "id": "9a0a8b29-9952-47bc-97b8-353ce8be4fee",
   "metadata": {
    "scrolled": true
   },
   "outputs": [
    {
     "name": "stdout",
     "output_type": "stream",
     "text": [
      "\u001b[90m# A tibble: 3 × 4\u001b[39m\n",
      "  species    bill flipper weight\n",
      "  \u001b[3m\u001b[90m<fct>\u001b[39m\u001b[23m     \u001b[3m\u001b[90m<dbl>\u001b[39m\u001b[23m   \u001b[3m\u001b[90m<dbl>\u001b[39m\u001b[23m  \u001b[3m\u001b[90m<dbl>\u001b[39m\u001b[23m\n",
      "\u001b[90m1\u001b[39m Adelie     38.8    190   \u001b[4m3\u001b[24m701.\n",
      "\u001b[90m2\u001b[39m Chinstrap  48.8    196.  \u001b[4m3\u001b[24m733.\n",
      "\u001b[90m3\u001b[39m Gentoo     47.5    217.  \u001b[4m5\u001b[24m076 \n"
     ]
    }
   ],
   "source": [
    "penguins_summary_wide <- penguins_summary_narrow %>%\n",
    "    pivot_wider(names_from = property, values_from = value)  # 转换为宽数据\n",
    "print(penguins_summary_wide)"
   ]
  },
  {
   "cell_type": "code",
   "execution_count": 6,
   "id": "2832db51-1700-4db9-9bf7-57ec0152fb84",
   "metadata": {
    "scrolled": true
   },
   "outputs": [
    {
     "data": {
      "text/html": [
       "<table class=\"dataframe\">\n",
       "<caption>A tibble: 9 × 3</caption>\n",
       "<thead>\n",
       "\t<tr><th scope=col>species</th><th scope=col>property</th><th scope=col>value</th></tr>\n",
       "\t<tr><th scope=col>&lt;fct&gt;</th><th scope=col>&lt;chr&gt;</th><th scope=col>&lt;dbl&gt;</th></tr>\n",
       "</thead>\n",
       "<tbody>\n",
       "\t<tr><td>Adelie   </td><td>bill   </td><td>  38.8</td></tr>\n",
       "\t<tr><td>Adelie   </td><td>flipper</td><td> 190.0</td></tr>\n",
       "\t<tr><td>Adelie   </td><td>weight </td><td>3700.7</td></tr>\n",
       "\t<tr><td>Chinstrap</td><td>bill   </td><td>  48.8</td></tr>\n",
       "\t<tr><td>Chinstrap</td><td>flipper</td><td> 195.8</td></tr>\n",
       "\t<tr><td>Chinstrap</td><td>weight </td><td>3733.1</td></tr>\n",
       "\t<tr><td>Gentoo   </td><td>bill   </td><td>  47.5</td></tr>\n",
       "\t<tr><td>Gentoo   </td><td>flipper</td><td> 217.2</td></tr>\n",
       "\t<tr><td>Gentoo   </td><td>weight </td><td>5076.0</td></tr>\n",
       "</tbody>\n",
       "</table>\n"
      ],
      "text/latex": [
       "A tibble: 9 × 3\n",
       "\\begin{tabular}{lll}\n",
       " species & property & value\\\\\n",
       " <fct> & <chr> & <dbl>\\\\\n",
       "\\hline\n",
       "\t Adelie    & bill    &   38.8\\\\\n",
       "\t Adelie    & flipper &  190.0\\\\\n",
       "\t Adelie    & weight  & 3700.7\\\\\n",
       "\t Chinstrap & bill    &   48.8\\\\\n",
       "\t Chinstrap & flipper &  195.8\\\\\n",
       "\t Chinstrap & weight  & 3733.1\\\\\n",
       "\t Gentoo    & bill    &   47.5\\\\\n",
       "\t Gentoo    & flipper &  217.2\\\\\n",
       "\t Gentoo    & weight  & 5076.0\\\\\n",
       "\\end{tabular}\n"
      ],
      "text/markdown": [
       "\n",
       "A tibble: 9 × 3\n",
       "\n",
       "| species &lt;fct&gt; | property &lt;chr&gt; | value &lt;dbl&gt; |\n",
       "|---|---|---|\n",
       "| Adelie    | bill    |   38.8 |\n",
       "| Adelie    | flipper |  190.0 |\n",
       "| Adelie    | weight  | 3700.7 |\n",
       "| Chinstrap | bill    |   48.8 |\n",
       "| Chinstrap | flipper |  195.8 |\n",
       "| Chinstrap | weight  | 3733.1 |\n",
       "| Gentoo    | bill    |   47.5 |\n",
       "| Gentoo    | flipper |  217.2 |\n",
       "| Gentoo    | weight  | 5076.0 |\n",
       "\n"
      ],
      "text/plain": [
       "  species   property value \n",
       "1 Adelie    bill       38.8\n",
       "2 Adelie    flipper   190.0\n",
       "3 Adelie    weight   3700.7\n",
       "4 Chinstrap bill       48.8\n",
       "5 Chinstrap flipper   195.8\n",
       "6 Chinstrap weight   3733.1\n",
       "7 Gentoo    bill       47.5\n",
       "8 Gentoo    flipper   217.2\n",
       "9 Gentoo    weight   5076.0"
      ]
     },
     "metadata": {},
     "output_type": "display_data"
    }
   ],
   "source": [
    "penguins_summary_wide %>% \n",
    "    pivot_longer(c(bill, flipper, weight), names_to='property', values_to='value')"
   ]
  },
  {
   "cell_type": "code",
   "execution_count": 7,
   "id": "0b780829-fdb8-4fde-bdd7-eacc7f3ead80",
   "metadata": {
    "scrolled": true
   },
   "outputs": [
    {
     "data": {
      "text/html": [
       "<table class=\"dataframe\">\n",
       "<caption>A tibble: 9 × 3</caption>\n",
       "<thead>\n",
       "\t<tr><th scope=col>species</th><th scope=col>property</th><th scope=col>value</th></tr>\n",
       "\t<tr><th scope=col>&lt;fct&gt;</th><th scope=col>&lt;chr&gt;</th><th scope=col>&lt;dbl&gt;</th></tr>\n",
       "</thead>\n",
       "<tbody>\n",
       "\t<tr><td>Adelie   </td><td>bill   </td><td>  38.8</td></tr>\n",
       "\t<tr><td>Adelie   </td><td>flipper</td><td> 190.0</td></tr>\n",
       "\t<tr><td>Adelie   </td><td>weight </td><td>3700.7</td></tr>\n",
       "\t<tr><td>Chinstrap</td><td>bill   </td><td>  48.8</td></tr>\n",
       "\t<tr><td>Chinstrap</td><td>flipper</td><td> 195.8</td></tr>\n",
       "\t<tr><td>Chinstrap</td><td>weight </td><td>3733.1</td></tr>\n",
       "\t<tr><td>Gentoo   </td><td>bill   </td><td>  47.5</td></tr>\n",
       "\t<tr><td>Gentoo   </td><td>flipper</td><td> 217.2</td></tr>\n",
       "\t<tr><td>Gentoo   </td><td>weight </td><td>5076.0</td></tr>\n",
       "</tbody>\n",
       "</table>\n"
      ],
      "text/latex": [
       "A tibble: 9 × 3\n",
       "\\begin{tabular}{lll}\n",
       " species & property & value\\\\\n",
       " <fct> & <chr> & <dbl>\\\\\n",
       "\\hline\n",
       "\t Adelie    & bill    &   38.8\\\\\n",
       "\t Adelie    & flipper &  190.0\\\\\n",
       "\t Adelie    & weight  & 3700.7\\\\\n",
       "\t Chinstrap & bill    &   48.8\\\\\n",
       "\t Chinstrap & flipper &  195.8\\\\\n",
       "\t Chinstrap & weight  & 3733.1\\\\\n",
       "\t Gentoo    & bill    &   47.5\\\\\n",
       "\t Gentoo    & flipper &  217.2\\\\\n",
       "\t Gentoo    & weight  & 5076.0\\\\\n",
       "\\end{tabular}\n"
      ],
      "text/markdown": [
       "\n",
       "A tibble: 9 × 3\n",
       "\n",
       "| species &lt;fct&gt; | property &lt;chr&gt; | value &lt;dbl&gt; |\n",
       "|---|---|---|\n",
       "| Adelie    | bill    |   38.8 |\n",
       "| Adelie    | flipper |  190.0 |\n",
       "| Adelie    | weight  | 3700.7 |\n",
       "| Chinstrap | bill    |   48.8 |\n",
       "| Chinstrap | flipper |  195.8 |\n",
       "| Chinstrap | weight  | 3733.1 |\n",
       "| Gentoo    | bill    |   47.5 |\n",
       "| Gentoo    | flipper |  217.2 |\n",
       "| Gentoo    | weight  | 5076.0 |\n",
       "\n"
      ],
      "text/plain": [
       "  species   property value \n",
       "1 Adelie    bill       38.8\n",
       "2 Adelie    flipper   190.0\n",
       "3 Adelie    weight   3700.7\n",
       "4 Chinstrap bill       48.8\n",
       "5 Chinstrap flipper   195.8\n",
       "6 Chinstrap weight   3733.1\n",
       "7 Gentoo    bill       47.5\n",
       "8 Gentoo    flipper   217.2\n",
       "9 Gentoo    weight   5076.0"
      ]
     },
     "metadata": {},
     "output_type": "display_data"
    }
   ],
   "source": [
    "penguins_summary_wide %>% \n",
    "    pivot_longer(cols = !species, names_to='property', values_to='value')\n",
    "# cols = !species: 选择除了species列以外的所有列进行转换"
   ]
  },
  {
   "cell_type": "code",
   "execution_count": 8,
   "id": "98ce9c09-2c28-4556-a1b4-9a99ca13ac77",
   "metadata": {
    "scrolled": true
   },
   "outputs": [
    {
     "name": "stdout",
     "output_type": "stream",
     "text": [
      "\u001b[90m# A tibble: 3 × 4\u001b[39m\n",
      "  species    bill flipper weight\n",
      "  \u001b[3m\u001b[90m<fct>\u001b[39m\u001b[23m     \u001b[3m\u001b[90m<dbl>\u001b[39m\u001b[23m   \u001b[3m\u001b[90m<dbl>\u001b[39m\u001b[23m  \u001b[3m\u001b[90m<dbl>\u001b[39m\u001b[23m\n",
      "\u001b[90m1\u001b[39m Adelie     38.8    190   \u001b[4m3\u001b[24m701.\n",
      "\u001b[90m2\u001b[39m Chinstrap  48.8    196.  \u001b[4m3\u001b[24m733.\n",
      "\u001b[90m3\u001b[39m Gentoo     47.5    217.  \u001b[4m5\u001b[24m076 \n"
     ]
    }
   ],
   "source": [
    "print(penguins_summary)"
   ]
  },
  {
   "cell_type": "code",
   "execution_count": 9,
   "id": "45e3dcf3-e5d4-4084-9c1e-59bcc29c6c4f",
   "metadata": {
    "scrolled": true
   },
   "outputs": [
    {
     "name": "stdout",
     "output_type": "stream",
     "text": [
      "\u001b[90m# A tibble: 3 × 3\u001b[39m\n",
      "  species    bill flipper_over_weight\n",
      "  \u001b[3m\u001b[90m<fct>\u001b[39m\u001b[23m     \u001b[3m\u001b[90m<dbl>\u001b[39m\u001b[23m \u001b[3m\u001b[90m<chr>\u001b[39m\u001b[23m              \n",
      "\u001b[90m1\u001b[39m Adelie     38.8 190/3700.7         \n",
      "\u001b[90m2\u001b[39m Chinstrap  48.8 195.8/3733.1       \n",
      "\u001b[90m3\u001b[39m Gentoo     47.5 217.2/5076         \n"
     ]
    }
   ],
   "source": [
    "uni_df <- penguins_summary %>% \n",
    "    unite(flipper_over_weight, flipper, weight, sep=\"/\")\n",
    "print(uni_df)"
   ]
  },
  {
   "cell_type": "code",
   "execution_count": 10,
   "id": "683e2c06-99f6-4c15-8aa0-68868e8663b8",
   "metadata": {
    "scrolled": true
   },
   "outputs": [
    {
     "name": "stdout",
     "output_type": "stream",
     "text": [
      "\u001b[90m# A tibble: 3 × 4\u001b[39m\n",
      "  species    bill flipper weight\n",
      "  \u001b[3m\u001b[90m<fct>\u001b[39m\u001b[23m     \u001b[3m\u001b[90m<dbl>\u001b[39m\u001b[23m \u001b[3m\u001b[90m<chr>\u001b[39m\u001b[23m   \u001b[3m\u001b[90m<chr>\u001b[39m\u001b[23m \n",
      "\u001b[90m1\u001b[39m Adelie     38.8 190     3700.7\n",
      "\u001b[90m2\u001b[39m Chinstrap  48.8 195.8   3733.1\n",
      "\u001b[90m3\u001b[39m Gentoo     47.5 217.2   5076  \n"
     ]
    }
   ],
   "source": [
    "sep_df <- uni_df %>% \n",
    "    separate(flipper_over_weight, into=c(\"flipper\", \"weight\"), sep=\"/\")\n",
    "print(sep_df)\n",
    "# 默认情况下, separate函数保留列的数据类型(因此flipper和weight是字符列)"
   ]
  },
  {
   "cell_type": "code",
   "execution_count": 11,
   "id": "06b5196d-de07-41d5-b70b-13f55c1ec935",
   "metadata": {
    "scrolled": true
   },
   "outputs": [
    {
     "name": "stdout",
     "output_type": "stream",
     "text": [
      "\u001b[90m# A tibble: 3 × 4\u001b[39m\n",
      "  species    bill flipper weight\n",
      "  \u001b[3m\u001b[90m<fct>\u001b[39m\u001b[23m     \u001b[3m\u001b[90m<dbl>\u001b[39m\u001b[23m   \u001b[3m\u001b[90m<dbl>\u001b[39m\u001b[23m  \u001b[3m\u001b[90m<dbl>\u001b[39m\u001b[23m\n",
      "\u001b[90m1\u001b[39m Adelie     38.8    190   \u001b[4m3\u001b[24m701.\n",
      "\u001b[90m2\u001b[39m Chinstrap  48.8    196.  \u001b[4m3\u001b[24m733.\n",
      "\u001b[90m3\u001b[39m Gentoo     47.5    217.  \u001b[4m5\u001b[24m076 \n"
     ]
    }
   ],
   "source": [
    "sep_df_double <- uni_df %>% \n",
    "    separate(flipper_over_weight, into=c(\"flipper\", \"weight\"), sep=\"/\", convert = TRUE)  # 拆分出来的数值会被自动转换为适当的类型\n",
    "print(sep_df_double)"
   ]
  },
  {
   "cell_type": "code",
   "execution_count": 12,
   "id": "ade95847-8615-43ab-8627-34d2cb21b0a7",
   "metadata": {},
   "outputs": [
    {
     "name": "stderr",
     "output_type": "stream",
     "text": [
      "\u001b[1m\u001b[22mJoining with `by = join_by(name)`\n"
     ]
    }
   ],
   "source": [
    "musicians <- full_join(band_members, band_instruments)"
   ]
  },
  {
   "cell_type": "code",
   "execution_count": 13,
   "id": "2a5de3f4-6664-405f-ac6f-d67faad429c6",
   "metadata": {
    "scrolled": true
   },
   "outputs": [
    {
     "name": "stdout",
     "output_type": "stream",
     "text": [
      "\u001b[90m# A tibble: 4 × 3\u001b[39m\n",
      "  name  band    plays \n",
      "  \u001b[3m\u001b[90m<chr>\u001b[39m\u001b[23m \u001b[3m\u001b[90m<chr>\u001b[39m\u001b[23m   \u001b[3m\u001b[90m<chr>\u001b[39m\u001b[23m \n",
      "\u001b[90m1\u001b[39m Mick  Stones  \u001b[31mNA\u001b[39m    \n",
      "\u001b[90m2\u001b[39m John  Beatles guitar\n",
      "\u001b[90m3\u001b[39m Paul  Beatles bass  \n",
      "\u001b[90m4\u001b[39m Keith \u001b[31mNA\u001b[39m      guitar\n"
     ]
    }
   ],
   "source": [
    "print(musicians)"
   ]
  },
  {
   "cell_type": "code",
   "execution_count": 14,
   "id": "42abf6c5-030e-4446-b90d-8c5359e5daf2",
   "metadata": {
    "scrolled": true
   },
   "outputs": [
    {
     "name": "stdout",
     "output_type": "stream",
     "text": [
      "\u001b[90m# A tibble: 4 × 2\u001b[39m\n",
      "\u001b[90m# Groups:   name [4]\u001b[39m\n",
      "  name  data            \n",
      "  \u001b[3m\u001b[90m<chr>\u001b[39m\u001b[23m \u001b[3m\u001b[90m<list>\u001b[39m\u001b[23m          \n",
      "\u001b[90m1\u001b[39m Mick  \u001b[90m<tibble [1 × 2]>\u001b[39m\n",
      "\u001b[90m2\u001b[39m John  \u001b[90m<tibble [1 × 2]>\u001b[39m\n",
      "\u001b[90m3\u001b[39m Paul  \u001b[90m<tibble [1 × 2]>\u001b[39m\n",
      "\u001b[90m4\u001b[39m Keith \u001b[90m<tibble [1 × 2]>\u001b[39m\n"
     ]
    }
   ],
   "source": [
    "musicians_nest <- musicians %>%\n",
    "    group_by(name) %>%\n",
    "    nest()\n",
    "print(musicians_nest)"
   ]
  },
  {
   "cell_type": "code",
   "execution_count": 15,
   "id": "af325f90-6339-4820-a6fb-afcf434c8fa1",
   "metadata": {
    "scrolled": true
   },
   "outputs": [
    {
     "name": "stdout",
     "output_type": "stream",
     "text": [
      "[[1]]\n",
      "\u001b[90m# A tibble: 1 × 2\u001b[39m\n",
      "  band   plays\n",
      "  \u001b[3m\u001b[90m<chr>\u001b[39m\u001b[23m  \u001b[3m\u001b[90m<chr>\u001b[39m\u001b[23m\n",
      "\u001b[90m1\u001b[39m Stones \u001b[31mNA\u001b[39m   \n",
      "\n"
     ]
    }
   ],
   "source": [
    "print(filter(musicians_nest,name=='Mick')$data)"
   ]
  },
  {
   "cell_type": "code",
   "execution_count": 16,
   "id": "6eee9b56-2225-49c0-b28b-cd9f6420f17f",
   "metadata": {
    "scrolled": true
   },
   "outputs": [
    {
     "data": {
      "text/html": [
       "<table class=\"dataframe\">\n",
       "<caption>A grouped_df: 4 × 3</caption>\n",
       "<thead>\n",
       "\t<tr><th scope=col>name</th><th scope=col>band</th><th scope=col>plays</th></tr>\n",
       "\t<tr><th scope=col>&lt;chr&gt;</th><th scope=col>&lt;chr&gt;</th><th scope=col>&lt;chr&gt;</th></tr>\n",
       "</thead>\n",
       "<tbody>\n",
       "\t<tr><td>Mick </td><td>Stones </td><td>NA    </td></tr>\n",
       "\t<tr><td>John </td><td>Beatles</td><td>guitar</td></tr>\n",
       "\t<tr><td>Paul </td><td>Beatles</td><td>bass  </td></tr>\n",
       "\t<tr><td>Keith</td><td>NA     </td><td>guitar</td></tr>\n",
       "</tbody>\n",
       "</table>\n"
      ],
      "text/latex": [
       "A grouped\\_df: 4 × 3\n",
       "\\begin{tabular}{lll}\n",
       " name & band & plays\\\\\n",
       " <chr> & <chr> & <chr>\\\\\n",
       "\\hline\n",
       "\t Mick  & Stones  & NA    \\\\\n",
       "\t John  & Beatles & guitar\\\\\n",
       "\t Paul  & Beatles & bass  \\\\\n",
       "\t Keith & NA      & guitar\\\\\n",
       "\\end{tabular}\n"
      ],
      "text/markdown": [
       "\n",
       "A grouped_df: 4 × 3\n",
       "\n",
       "| name &lt;chr&gt; | band &lt;chr&gt; | plays &lt;chr&gt; |\n",
       "|---|---|---|\n",
       "| Mick  | Stones  | NA     |\n",
       "| John  | Beatles | guitar |\n",
       "| Paul  | Beatles | bass   |\n",
       "| Keith | NA      | guitar |\n",
       "\n"
      ],
      "text/plain": [
       "  name  band    plays \n",
       "1 Mick  Stones  NA    \n",
       "2 John  Beatles guitar\n",
       "3 Paul  Beatles bass  \n",
       "4 Keith NA      guitar"
      ]
     },
     "metadata": {},
     "output_type": "display_data"
    }
   ],
   "source": [
    "musicians_nest %>% \n",
    "  unnest(cols = data)"
   ]
  },
  {
   "cell_type": "code",
   "execution_count": 17,
   "id": "0cea08c2-8313-4668-8673-0fe3c5fe2ffc",
   "metadata": {
    "scrolled": true
   },
   "outputs": [
    {
     "data": {
      "text/html": [
       "<ol>\n",
       "\t<li>FALSE</li>\n",
       "\t<li>TRUE</li>\n",
       "\t<li>TRUE</li>\n",
       "\t<li>FALSE</li>\n",
       "\t<li>TRUE</li>\n",
       "</ol>\n"
      ],
      "text/latex": [
       "\\begin{enumerate}\n",
       "\\item FALSE\n",
       "\\item TRUE\n",
       "\\item TRUE\n",
       "\\item FALSE\n",
       "\\item TRUE\n",
       "\\end{enumerate}\n"
      ],
      "text/markdown": [
       "1. FALSE\n",
       "2. TRUE\n",
       "3. TRUE\n",
       "4. FALSE\n",
       "5. TRUE\n",
       "\n",
       "\n"
      ],
      "text/plain": [
       "[[1]]\n",
       "[1] FALSE\n",
       "\n",
       "[[2]]\n",
       "[1] TRUE\n",
       "\n",
       "[[3]]\n",
       "[1] TRUE\n",
       "\n",
       "[[4]]\n",
       "[1] FALSE\n",
       "\n",
       "[[5]]\n",
       "[1] TRUE\n"
      ]
     },
     "metadata": {},
     "output_type": "display_data"
    }
   ],
   "source": [
    "is_div_2_3 <- function(x) {\n",
    "    if (x%%2==0 | x%%3==0){\n",
    "        return (TRUE)\n",
    "    } else {\n",
    "        return (FALSE)\n",
    "    }\n",
    "}\n",
    "v <- c(1,2,3,5,6)\n",
    "map(v, is_div_2_3)"
   ]
  },
  {
   "cell_type": "code",
   "execution_count": 18,
   "id": "91bd845a-0edc-4056-bebb-8f6131d81600",
   "metadata": {
    "scrolled": true
   },
   "outputs": [
    {
     "name": "stdout",
     "output_type": "stream",
     "text": [
      "\u001b[90m# A tibble: 344 × 1\u001b[39m\n",
      "   body_mass_g\n",
      "         \u001b[3m\u001b[90m<int>\u001b[39m\u001b[23m\n",
      "\u001b[90m 1\u001b[39m        \u001b[4m3\u001b[24m750\n",
      "\u001b[90m 2\u001b[39m        \u001b[4m3\u001b[24m800\n",
      "\u001b[90m 3\u001b[39m        \u001b[4m3\u001b[24m250\n",
      "\u001b[90m 4\u001b[39m          \u001b[31mNA\u001b[39m\n",
      "\u001b[90m 5\u001b[39m        \u001b[4m3\u001b[24m450\n",
      "\u001b[90m 6\u001b[39m        \u001b[4m3\u001b[24m650\n",
      "\u001b[90m 7\u001b[39m        \u001b[4m3\u001b[24m625\n",
      "\u001b[90m 8\u001b[39m        \u001b[4m4\u001b[24m675\n",
      "\u001b[90m 9\u001b[39m        \u001b[4m3\u001b[24m475\n",
      "\u001b[90m10\u001b[39m        \u001b[4m4\u001b[24m250\n",
      "\u001b[90m# ℹ 334 more rows\u001b[39m\n",
      "[1] \"the computed correlations are:\"\n",
      "   bill_length_mm     bill_depth_mm flipper_length_mm              year \n",
      "       0.59510982       -0.47191562        0.87120177        0.04220939 \n",
      "[1] \"\\ncolumn with maximal correlation:\"\n",
      "[1] \"flipper_length_mm\"\n",
      "[1] 0.8712018\n"
     ]
    }
   ],
   "source": [
    "col_name <- 'body_mass_g'\n",
    "df = penguins\n",
    "\n",
    "# 从数据框 df 中提取名为 col_name (即 body_mass_g)的列, v_col 保存的是该列的数据\n",
    "v_col <- select(df, all_of(col_name))\n",
    "print(v_col)\n",
    "# select_if(df, is.numeric) 先选择数据框中的所有数值型列\n",
    "# select(-all_of(col_name)) 将指定的列从 df_num 中排除, 保留其他数值型列\n",
    "df_num <- select_if(df, is.numeric) %>% select(-all_of(col_name)) \n",
    "\n",
    "# 定义了一个函数, 接受一个向量x, 并计算 x 和 v_col之间的相关性\n",
    "# use='complete.obs' 用于忽略缺失值\n",
    "cor_func <- function(x){ cor(x, v_col, use='complete.obs') } \n",
    "\n",
    "# 使用map()对 df_num 中的每一列去 应用相关性函数cor_func, 并返回相关性结果\n",
    "# unlist()将返回的列表转换为普通向量\n",
    "correlations <- unlist(map(df_num, cor_func)) \n",
    "print('the computed correlations are:'); print(correlations)\n",
    "\n",
    "max_abs_cor_var <- names( which( abs(correlations)==max(abs(correlations))  ) )  # 哪个最大\n",
    "cor_val <- as.double(correlations[max_abs_cor_var])  # 提取出来并转换为double类型\n",
    "print('\\ncolumn with maximal correlation:' ); print(max_abs_cor_var); print(cor_val)"
   ]
  },
  {
   "cell_type": "code",
   "execution_count": 19,
   "id": "de3bd44c-a0cc-4f1d-8ccf-dcc2ad0c7b47",
   "metadata": {
    "scrolled": true
   },
   "outputs": [
    {
     "data": {
      "text/html": [
       "<table class=\"dataframe\">\n",
       "<caption>A data.frame: 1 × 2</caption>\n",
       "<thead>\n",
       "\t<tr><th scope=col>var_name</th><th scope=col>cor</th></tr>\n",
       "\t<tr><th scope=col>&lt;chr&gt;</th><th scope=col>&lt;dbl&gt;</th></tr>\n",
       "</thead>\n",
       "<tbody>\n",
       "\t<tr><td>flipper_length_mm</td><td>0.8712018</td></tr>\n",
       "</tbody>\n",
       "</table>\n"
      ],
      "text/latex": [
       "A data.frame: 1 × 2\n",
       "\\begin{tabular}{ll}\n",
       " var\\_name & cor\\\\\n",
       " <chr> & <dbl>\\\\\n",
       "\\hline\n",
       "\t flipper\\_length\\_mm & 0.8712018\\\\\n",
       "\\end{tabular}\n"
      ],
      "text/markdown": [
       "\n",
       "A data.frame: 1 × 2\n",
       "\n",
       "| var_name &lt;chr&gt; | cor &lt;dbl&gt; |\n",
       "|---|---|\n",
       "| flipper_length_mm | 0.8712018 |\n",
       "\n"
      ],
      "text/plain": [
       "  var_name          cor      \n",
       "1 flipper_length_mm 0.8712018"
      ]
     },
     "metadata": {},
     "output_type": "display_data"
    }
   ],
   "source": [
    "max_cor_var <- function(df, col_name) {\n",
    "    v_col <- select(df, all_of(col_name))  # 提取由col_name指定的列\n",
    "    df_num <- select_if(df, is.numeric) %>% select(-all_of(col_name))  # 不包含col_name数值型列的数据框df_num\n",
    "    \n",
    "    # 定义了一个函数, 接受一个向量x, 并计算 x 和 v_col之间的相关性\n",
    "    # use='complete.obs' 用于忽略缺失值\n",
    "    cor_func <- function(x){ cor(x, v_col, use='complete.obs') }\n",
    "\n",
    "    # 使用map()对 df_num 中的每一列去 应用相关性函数cor_func, 并返回相关性结果\n",
    "    # unlist()将返回的列表转换为普通向量\n",
    "    correlations <- unlist(map(df_num, cor_func)) \n",
    "\n",
    "    max_abs_cor_var <- names( which( abs(correlations)==max(abs(correlations))  ) ) \n",
    "    cor_val <- as.double(correlations[max_abs_cor_var])\n",
    "  \n",
    "    return (data.frame(var_name=max_abs_cor_var, cor=cor_val)) # return as a data frame \n",
    "}\n",
    "\n",
    "max_cor_var(penguins, \"body_mass_g\")"
   ]
  },
  {
   "cell_type": "code",
   "execution_count": 20,
   "id": "d5c2f124-1508-4f78-9de8-42a732ff1030",
   "metadata": {
    "scrolled": true
   },
   "outputs": [
    {
     "name": "stdout",
     "output_type": "stream",
     "text": [
      "\u001b[90m# A tibble: 3 × 3\u001b[39m\n",
      "\u001b[90m# Groups:   species [3]\u001b[39m\n",
      "  species   data               max_cor     \n",
      "  \u001b[3m\u001b[90m<fct>\u001b[39m\u001b[23m     \u001b[3m\u001b[90m<list>\u001b[39m\u001b[23m             \u001b[3m\u001b[90m<list>\u001b[39m\u001b[23m      \n",
      "\u001b[90m1\u001b[39m Adelie    \u001b[90m<tibble [152 × 7]>\u001b[39m \u001b[90m<df [1 × 2]>\u001b[39m\n",
      "\u001b[90m2\u001b[39m Gentoo    \u001b[90m<tibble [124 × 7]>\u001b[39m \u001b[90m<df [1 × 2]>\u001b[39m\n",
      "\u001b[90m3\u001b[39m Chinstrap \u001b[90m<tibble [68 × 7]>\u001b[39m  \u001b[90m<df [1 × 2]>\u001b[39m\n"
     ]
    }
   ],
   "source": [
    "cor_by_group <- penguins %>%\n",
    "    group_by(species) %>%\n",
    "    nest() %>%\n",
    "    mutate(max_cor=map(data, function(x){max_cor_var(x, 'body_mass_g')}))  # 添加一列 max_cor, data是由nest()自动生成的\n",
    "\n",
    "print(cor_by_group)"
   ]
  },
  {
   "cell_type": "code",
   "execution_count": 21,
   "id": "c179ce04-2590-4b3d-ace9-77350885867e",
   "metadata": {
    "scrolled": true
   },
   "outputs": [
    {
     "data": {
      "text/html": [
       "<table class=\"dataframe\">\n",
       "<caption>A grouped_df: 3 × 3</caption>\n",
       "<thead>\n",
       "\t<tr><th scope=col>species</th><th scope=col>var_name</th><th scope=col>cor</th></tr>\n",
       "\t<tr><th scope=col>&lt;fct&gt;</th><th scope=col>&lt;chr&gt;</th><th scope=col>&lt;dbl&gt;</th></tr>\n",
       "</thead>\n",
       "<tbody>\n",
       "\t<tr><td>Adelie   </td><td>bill_depth_mm    </td><td>0.5761382</td></tr>\n",
       "\t<tr><td>Gentoo   </td><td>bill_depth_mm    </td><td>0.7190850</td></tr>\n",
       "\t<tr><td>Chinstrap</td><td>flipper_length_mm</td><td>0.6415594</td></tr>\n",
       "</tbody>\n",
       "</table>\n"
      ],
      "text/latex": [
       "A grouped\\_df: 3 × 3\n",
       "\\begin{tabular}{lll}\n",
       " species & var\\_name & cor\\\\\n",
       " <fct> & <chr> & <dbl>\\\\\n",
       "\\hline\n",
       "\t Adelie    & bill\\_depth\\_mm     & 0.5761382\\\\\n",
       "\t Gentoo    & bill\\_depth\\_mm     & 0.7190850\\\\\n",
       "\t Chinstrap & flipper\\_length\\_mm & 0.6415594\\\\\n",
       "\\end{tabular}\n"
      ],
      "text/markdown": [
       "\n",
       "A grouped_df: 3 × 3\n",
       "\n",
       "| species &lt;fct&gt; | var_name &lt;chr&gt; | cor &lt;dbl&gt; |\n",
       "|---|---|---|\n",
       "| Adelie    | bill_depth_mm     | 0.5761382 |\n",
       "| Gentoo    | bill_depth_mm     | 0.7190850 |\n",
       "| Chinstrap | flipper_length_mm | 0.6415594 |\n",
       "\n"
      ],
      "text/plain": [
       "  species   var_name          cor      \n",
       "1 Adelie    bill_depth_mm     0.5761382\n",
       "2 Gentoo    bill_depth_mm     0.7190850\n",
       "3 Chinstrap flipper_length_mm 0.6415594"
      ]
     },
     "metadata": {},
     "output_type": "display_data"
    }
   ],
   "source": [
    "select(cor_by_group, -data) %>%\n",
    "    unnest(cols=max_cor)  # 拆cols"
   ]
  },
  {
   "cell_type": "code",
   "execution_count": 22,
   "id": "bc69e077-1eb8-4c54-bff1-7e50078fb857",
   "metadata": {
    "scrolled": true
   },
   "outputs": [
    {
     "name": "stdout",
     "output_type": "stream",
     "text": [
      "\u001b[90m# A tibble: 7 × 3\u001b[39m\n",
      "   year   qtr return\n",
      "  \u001b[3m\u001b[90m<dbl>\u001b[39m\u001b[23m \u001b[3m\u001b[90m<dbl>\u001b[39m\u001b[23m  \u001b[3m\u001b[90m<dbl>\u001b[39m\u001b[23m\n",
      "\u001b[90m1\u001b[39m  \u001b[4m2\u001b[24m015     1   1.88\n",
      "\u001b[90m2\u001b[39m  \u001b[4m2\u001b[24m015     2   0.59\n",
      "\u001b[90m3\u001b[39m  \u001b[4m2\u001b[24m015     3   0.35\n",
      "\u001b[90m4\u001b[39m  \u001b[4m2\u001b[24m015     4  \u001b[31mNA\u001b[39m   \n",
      "\u001b[90m5\u001b[39m  \u001b[4m2\u001b[24m016     2   0.92\n",
      "\u001b[90m6\u001b[39m  \u001b[4m2\u001b[24m016     3   0.17\n",
      "\u001b[90m7\u001b[39m  \u001b[4m2\u001b[24m016     4   2.66\n"
     ]
    }
   ],
   "source": [
    "stocks <- tibble(\n",
    "  year   = c(2015, 2015, 2015, 2015, 2016, 2016, 2016),\n",
    "  qtr    = c(   1,    2,    3,    4,    2,    3,    4),\n",
    "  return = c(1.88, 0.59, 0.35,   NA, 0.92, 0.17, 2.66)\n",
    ")\n",
    "print(stocks)"
   ]
  },
  {
   "cell_type": "code",
   "execution_count": 23,
   "id": "0bb23050-cddd-40cc-9c43-dfec8c7d0038",
   "metadata": {
    "scrolled": true
   },
   "outputs": [
    {
     "data": {
      "text/html": [
       "<table class=\"dataframe\">\n",
       "<caption>A tibble: 8 × 3</caption>\n",
       "<thead>\n",
       "\t<tr><th scope=col>year</th><th scope=col>qtr</th><th scope=col>return</th></tr>\n",
       "\t<tr><th scope=col>&lt;dbl&gt;</th><th scope=col>&lt;dbl&gt;</th><th scope=col>&lt;dbl&gt;</th></tr>\n",
       "</thead>\n",
       "<tbody>\n",
       "\t<tr><td>2015</td><td>1</td><td>1.88</td></tr>\n",
       "\t<tr><td>2015</td><td>2</td><td>0.59</td></tr>\n",
       "\t<tr><td>2015</td><td>3</td><td>0.35</td></tr>\n",
       "\t<tr><td>2015</td><td>4</td><td>  NA</td></tr>\n",
       "\t<tr><td>2016</td><td>1</td><td>  NA</td></tr>\n",
       "\t<tr><td>2016</td><td>2</td><td>0.92</td></tr>\n",
       "\t<tr><td>2016</td><td>3</td><td>0.17</td></tr>\n",
       "\t<tr><td>2016</td><td>4</td><td>2.66</td></tr>\n",
       "</tbody>\n",
       "</table>\n"
      ],
      "text/latex": [
       "A tibble: 8 × 3\n",
       "\\begin{tabular}{lll}\n",
       " year & qtr & return\\\\\n",
       " <dbl> & <dbl> & <dbl>\\\\\n",
       "\\hline\n",
       "\t 2015 & 1 & 1.88\\\\\n",
       "\t 2015 & 2 & 0.59\\\\\n",
       "\t 2015 & 3 & 0.35\\\\\n",
       "\t 2015 & 4 &   NA\\\\\n",
       "\t 2016 & 1 &   NA\\\\\n",
       "\t 2016 & 2 & 0.92\\\\\n",
       "\t 2016 & 3 & 0.17\\\\\n",
       "\t 2016 & 4 & 2.66\\\\\n",
       "\\end{tabular}\n"
      ],
      "text/markdown": [
       "\n",
       "A tibble: 8 × 3\n",
       "\n",
       "| year &lt;dbl&gt; | qtr &lt;dbl&gt; | return &lt;dbl&gt; |\n",
       "|---|---|---|\n",
       "| 2015 | 1 | 1.88 |\n",
       "| 2015 | 2 | 0.59 |\n",
       "| 2015 | 3 | 0.35 |\n",
       "| 2015 | 4 |   NA |\n",
       "| 2016 | 1 |   NA |\n",
       "| 2016 | 2 | 0.92 |\n",
       "| 2016 | 3 | 0.17 |\n",
       "| 2016 | 4 | 2.66 |\n",
       "\n"
      ],
      "text/plain": [
       "  year qtr return\n",
       "1 2015 1   1.88  \n",
       "2 2015 2   0.59  \n",
       "3 2015 3   0.35  \n",
       "4 2015 4     NA  \n",
       "5 2016 1     NA  \n",
       "6 2016 2   0.92  \n",
       "7 2016 3   0.17  \n",
       "8 2016 4   2.66  "
      ]
     },
     "metadata": {},
     "output_type": "display_data"
    }
   ],
   "source": [
    "complete(stocks, year, qtr)  # complete() 函数将隐性缺失数据显性化\n",
    "# 将会根据 year 和 qtr 的所有可能组合, 生成一个包含所有组合的数据集"
   ]
  },
  {
   "cell_type": "code",
   "execution_count": 24,
   "id": "3e2b28d0-889b-443c-bd5f-4dfc8f4e8367",
   "metadata": {
    "scrolled": true
   },
   "outputs": [
    {
     "data": {
      "text/html": [
       "<style>\n",
       ".list-inline {list-style: none; margin:0; padding: 0}\n",
       ".list-inline>li {display: inline-block}\n",
       ".list-inline>li:not(:last-child)::after {content: \"\\00b7\"; padding: 0 .5ex}\n",
       "</style>\n",
       "<ol class=list-inline><li>TRUE</li><li>TRUE</li><li>TRUE</li><li>FALSE</li><li>TRUE</li><li>TRUE</li><li>TRUE</li></ol>\n"
      ],
      "text/latex": [
       "\\begin{enumerate*}\n",
       "\\item TRUE\n",
       "\\item TRUE\n",
       "\\item TRUE\n",
       "\\item FALSE\n",
       "\\item TRUE\n",
       "\\item TRUE\n",
       "\\item TRUE\n",
       "\\end{enumerate*}\n"
      ],
      "text/markdown": [
       "1. TRUE\n",
       "2. TRUE\n",
       "3. TRUE\n",
       "4. FALSE\n",
       "5. TRUE\n",
       "6. TRUE\n",
       "7. TRUE\n",
       "\n",
       "\n"
      ],
      "text/plain": [
       "[1]  TRUE  TRUE  TRUE FALSE  TRUE  TRUE  TRUE"
      ]
     },
     "metadata": {},
     "output_type": "display_data"
    }
   ],
   "source": [
    "complete.cases(stocks)"
   ]
  },
  {
   "cell_type": "code",
   "execution_count": 25,
   "id": "15487be3-45e2-4c55-8a3e-d3ba7a7dbbe2",
   "metadata": {
    "scrolled": true
   },
   "outputs": [
    {
     "data": {
      "text/html": [
       "<table class=\"dataframe\">\n",
       "<caption>A tibble: 6 × 3</caption>\n",
       "<thead>\n",
       "\t<tr><th scope=col>year</th><th scope=col>qtr</th><th scope=col>return</th></tr>\n",
       "\t<tr><th scope=col>&lt;dbl&gt;</th><th scope=col>&lt;dbl&gt;</th><th scope=col>&lt;dbl&gt;</th></tr>\n",
       "</thead>\n",
       "<tbody>\n",
       "\t<tr><td>2015</td><td>1</td><td>1.88</td></tr>\n",
       "\t<tr><td>2015</td><td>2</td><td>0.59</td></tr>\n",
       "\t<tr><td>2015</td><td>3</td><td>0.35</td></tr>\n",
       "\t<tr><td>2016</td><td>2</td><td>0.92</td></tr>\n",
       "\t<tr><td>2016</td><td>3</td><td>0.17</td></tr>\n",
       "\t<tr><td>2016</td><td>4</td><td>2.66</td></tr>\n",
       "</tbody>\n",
       "</table>\n"
      ],
      "text/latex": [
       "A tibble: 6 × 3\n",
       "\\begin{tabular}{lll}\n",
       " year & qtr & return\\\\\n",
       " <dbl> & <dbl> & <dbl>\\\\\n",
       "\\hline\n",
       "\t 2015 & 1 & 1.88\\\\\n",
       "\t 2015 & 2 & 0.59\\\\\n",
       "\t 2015 & 3 & 0.35\\\\\n",
       "\t 2016 & 2 & 0.92\\\\\n",
       "\t 2016 & 3 & 0.17\\\\\n",
       "\t 2016 & 4 & 2.66\\\\\n",
       "\\end{tabular}\n"
      ],
      "text/markdown": [
       "\n",
       "A tibble: 6 × 3\n",
       "\n",
       "| year &lt;dbl&gt; | qtr &lt;dbl&gt; | return &lt;dbl&gt; |\n",
       "|---|---|---|\n",
       "| 2015 | 1 | 1.88 |\n",
       "| 2015 | 2 | 0.59 |\n",
       "| 2015 | 3 | 0.35 |\n",
       "| 2016 | 2 | 0.92 |\n",
       "| 2016 | 3 | 0.17 |\n",
       "| 2016 | 4 | 2.66 |\n",
       "\n"
      ],
      "text/plain": [
       "  year qtr return\n",
       "1 2015 1   1.88  \n",
       "2 2015 2   0.59  \n",
       "3 2015 3   0.35  \n",
       "4 2016 2   0.92  \n",
       "5 2016 3   0.17  \n",
       "6 2016 4   2.66  "
      ]
     },
     "metadata": {},
     "output_type": "display_data"
    }
   ],
   "source": [
    "filter(stocks, complete.cases(stocks))  # 通过布尔表达式筛选"
   ]
  },
  {
   "cell_type": "code",
   "execution_count": 26,
   "id": "735f80ed-1c29-409f-802f-c51e33c58f87",
   "metadata": {
    "scrolled": true
   },
   "outputs": [
    {
     "data": {
      "text/html": [
       "<style>\n",
       ".list-inline {list-style: none; margin:0; padding: 0}\n",
       ".list-inline>li {display: inline-block}\n",
       ".list-inline>li:not(:last-child)::after {content: \"\\00b7\"; padding: 0 .5ex}\n",
       "</style>\n",
       "<ol class=list-inline><li>1</li><li>2</li><li>2.33333333333333</li><li>4</li></ol>\n"
      ],
      "text/latex": [
       "\\begin{enumerate*}\n",
       "\\item 1\n",
       "\\item 2\n",
       "\\item 2.33333333333333\n",
       "\\item 4\n",
       "\\end{enumerate*}\n"
      ],
      "text/markdown": [
       "1. 1\n",
       "2. 2\n",
       "3. 2.33333333333333\n",
       "4. 4\n",
       "\n",
       "\n"
      ],
      "text/plain": [
       "[1] 1.000000 2.000000 2.333333 4.000000"
      ]
     },
     "metadata": {},
     "output_type": "display_data"
    }
   ],
   "source": [
    "replace_by_mean <- function(x){\n",
    "    mu <- mean(x, na.rm=TRUE) # 忽略缺失值, 计算平均数\n",
    "  \n",
    "    impute_f <- function(z){  # 如果z是缺失值, 用mu代替; 否则保持不变\n",
    "        if (is.na(z)){\n",
    "            return (mu)\n",
    "        } else {\n",
    "            return (z)\n",
    "        }\n",
    "    }\n",
    "    # 使用purrr包中的map_dbl函数遍历向量 x 中的每一个元素 并对每个元素应用 impute_f 函数 (刚定义的)\n",
    "    # map_dbl函数会返回一个 <<<\"数值型向量\">>> 其中缺失值被替换为了均值 其他非缺失值保持原样\n",
    "    # map 会返回一个列表\n",
    "    return (map_dbl(x, impute_f)) \n",
    "}\n",
    "\n",
    "x <- c(1,2,NA,4)\n",
    "replace_by_mean(x)"
   ]
  },
  {
   "cell_type": "code",
   "execution_count": 27,
   "id": "7b26d94b-2562-45ec-bf85-ebac4fc88b37",
   "metadata": {
    "scrolled": true
   },
   "outputs": [
    {
     "data": {
      "text/html": [
       "<table class=\"dataframe\">\n",
       "<caption>A tibble: 7 × 3</caption>\n",
       "<thead>\n",
       "\t<tr><th scope=col>year</th><th scope=col>qtr</th><th scope=col>return</th></tr>\n",
       "\t<tr><th scope=col>&lt;dbl&gt;</th><th scope=col>&lt;dbl&gt;</th><th scope=col>&lt;dbl&gt;</th></tr>\n",
       "</thead>\n",
       "<tbody>\n",
       "\t<tr><td>2015</td><td>1</td><td>1.880</td></tr>\n",
       "\t<tr><td>2015</td><td>2</td><td>0.590</td></tr>\n",
       "\t<tr><td>2015</td><td>3</td><td>0.350</td></tr>\n",
       "\t<tr><td>2015</td><td>4</td><td>1.095</td></tr>\n",
       "\t<tr><td>2016</td><td>2</td><td>0.920</td></tr>\n",
       "\t<tr><td>2016</td><td>3</td><td>0.170</td></tr>\n",
       "\t<tr><td>2016</td><td>4</td><td>2.660</td></tr>\n",
       "</tbody>\n",
       "</table>\n"
      ],
      "text/latex": [
       "A tibble: 7 × 3\n",
       "\\begin{tabular}{lll}\n",
       " year & qtr & return\\\\\n",
       " <dbl> & <dbl> & <dbl>\\\\\n",
       "\\hline\n",
       "\t 2015 & 1 & 1.880\\\\\n",
       "\t 2015 & 2 & 0.590\\\\\n",
       "\t 2015 & 3 & 0.350\\\\\n",
       "\t 2015 & 4 & 1.095\\\\\n",
       "\t 2016 & 2 & 0.920\\\\\n",
       "\t 2016 & 3 & 0.170\\\\\n",
       "\t 2016 & 4 & 2.660\\\\\n",
       "\\end{tabular}\n"
      ],
      "text/markdown": [
       "\n",
       "A tibble: 7 × 3\n",
       "\n",
       "| year &lt;dbl&gt; | qtr &lt;dbl&gt; | return &lt;dbl&gt; |\n",
       "|---|---|---|\n",
       "| 2015 | 1 | 1.880 |\n",
       "| 2015 | 2 | 0.590 |\n",
       "| 2015 | 3 | 0.350 |\n",
       "| 2015 | 4 | 1.095 |\n",
       "| 2016 | 2 | 0.920 |\n",
       "| 2016 | 3 | 0.170 |\n",
       "| 2016 | 4 | 2.660 |\n",
       "\n"
      ],
      "text/plain": [
       "  year qtr return\n",
       "1 2015 1   1.880 \n",
       "2 2015 2   0.590 \n",
       "3 2015 3   0.350 \n",
       "4 2015 4   1.095 \n",
       "5 2016 2   0.920 \n",
       "6 2016 3   0.170 \n",
       "7 2016 4   2.660 "
      ]
     },
     "metadata": {},
     "output_type": "display_data"
    }
   ],
   "source": [
    "mutate(stocks, return=replace_by_mean(return))\n",
    "# mutate()函数, 我们可以对数据框中的列进行修改"
   ]
  },
  {
   "cell_type": "code",
   "execution_count": null,
   "id": "26ad1435-53d7-43fb-90fb-cc9ee30f826c",
   "metadata": {},
   "outputs": [],
   "source": []
  }
 ],
 "metadata": {
  "kernelspec": {
   "display_name": "R",
   "language": "R",
   "name": "ir"
  },
  "language_info": {
   "codemirror_mode": "r",
   "file_extension": ".r",
   "mimetype": "text/x-r-source",
   "name": "R",
   "pygments_lexer": "r",
   "version": "4.4.1"
  }
 },
 "nbformat": 4,
 "nbformat_minor": 5
}
